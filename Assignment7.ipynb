{
  "nbformat": 4,
  "nbformat_minor": 0,
  "metadata": {
    "colab": {
      "provenance": [],
      "authorship_tag": "ABX9TyNpdq5t52pbwIgsNWcqgXxD",
      "include_colab_link": true
    },
    "kernelspec": {
      "name": "python3",
      "display_name": "Python 3"
    },
    "language_info": {
      "name": "python"
    }
  },
  "cells": [
    {
      "cell_type": "markdown",
      "metadata": {
        "id": "view-in-github",
        "colab_type": "text"
      },
      "source": [
        "<a href=\"https://colab.research.google.com/github/DBASS007/CSC221_dbass007/blob/main/Assignment7.ipynb\" target=\"_parent\"><img src=\"https://colab.research.google.com/assets/colab-badge.svg\" alt=\"Open In Colab\"/></a>"
      ]
    },
    {
      "cell_type": "code",
      "execution_count": null,
      "metadata": {
        "id": "Yv43f_KL3jDp"
      },
      "outputs": [],
      "source": [
        "#Try the Try It Yourself challenges.\n",
        "#You don't have to do them all, but definitely do 6-1, 6-2, 6-3, 6-4 (which requires looking at 6-3), and 6-11."
      ]
    },
    {
      "cell_type": "code",
      "source": [
        "#6-1\n",
        "person = {\n",
        "    'first_name': 'Dylan',\n",
        "    'last_name': 'Bass',\n",
        "    'age': 19,\n",
        "    'city': 'Northbrook',\n",
        "    }\n",
        "\n",
        "print(person['first_name'])\n",
        "print(person['last_name'])\n",
        "print(person['age'])\n",
        "print(person['city'])"
      ],
      "metadata": {
        "colab": {
          "base_uri": "https://localhost:8080/"
        },
        "id": "caS4bIj85Wp4",
        "outputId": "a3e37aae-3cd2-42cc-9c99-d3813000bc3a"
      },
      "execution_count": null,
      "outputs": [
        {
          "output_type": "stream",
          "name": "stdout",
          "text": [
            "Dylan\n",
            "Bass\n",
            "19\n",
            "Northbrook\n"
          ]
        }
      ]
    },
    {
      "cell_type": "code",
      "source": [
        "#6-2\n",
        "favorite_numbers = {\n",
        "    'sophie': 37,\n",
        "    'liam': 10,\n",
        "    'emma': 3,\n",
        "    'oliver': 500000,\n",
        "    'ava': 9,\n",
        "}\n",
        "\n",
        "num = favorite_numbers['sophie']\n",
        "print(f\"Sophie's lucky number is {num}.\")\n",
        "\n",
        "num = favorite_numbers['liam']\n",
        "print(f\"Liam's special number is {num}.\")\n",
        "\n",
        "num = favorite_numbers['emma']\n",
        "print(f\"Emma's magic number is {num}.\")\n",
        "\n",
        "num = favorite_numbers['oliver']\n",
        "print(f\"Oliver's incredible number is {num}.\")\n",
        "\n",
        "num = favorite_numbers['ava']\n",
        "print(f\"Ava's fantastic number is {num}.\")\n"
      ],
      "metadata": {
        "colab": {
          "base_uri": "https://localhost:8080/"
        },
        "id": "cXapgw415YaH",
        "outputId": "7ff8360d-3a73-45a4-9db6-f6056f05e18c"
      },
      "execution_count": null,
      "outputs": [
        {
          "output_type": "stream",
          "name": "stdout",
          "text": [
            "Sophie's lucky number is 37.\n",
            "Liam's special number is 10.\n",
            "Emma's magic number is 3.\n",
            "Oliver's incredible number is 500000.\n",
            "Ava's fantastic number is 9.\n"
          ]
        }
      ]
    },
    {
      "cell_type": "code",
      "source": [
        "#6-3\n",
        "glossary = {\n",
        "    'is_boolean': 'A data type that can be either True or False.',\n",
        "    'function': 'A block of organized, reusable code.',\n",
        "    'integer': 'A whole number, positive or negative, without a decimal point.',\n",
        "    'variable': 'A storage location associated with a symbolic name.',\n",
        "    'list': 'A collection of items in a particular order.',\n",
        "}\n",
        "\n",
        "term = 'is_boolean'\n",
        "print(f\"\\n{term.title()}: {glossary[term]}\")\n",
        "\n",
        "term = 'function'\n",
        "print(f\"\\n{term.title()}: {glossary[term]}\")\n",
        "\n",
        "term = 'integer'\n",
        "print(f\"\\n{term.title()}: {glossary[term]}\")\n",
        "\n",
        "term = 'variable'\n",
        "print(f\"\\n{term.title()}: {glossary[term]}\")\n",
        "\n",
        "term = 'list'\n",
        "print(f\"\\n{term.title()}: {glossary[term]}\")\n",
        "\n",
        "#only can pick five, strings are my favorite though"
      ],
      "metadata": {
        "colab": {
          "base_uri": "https://localhost:8080/"
        },
        "id": "Kmejp8Vv5dO8",
        "outputId": "adef19e9-b113-415b-ef28-4a54b2b3af77"
      },
      "execution_count": null,
      "outputs": [
        {
          "output_type": "stream",
          "name": "stdout",
          "text": [
            "\n",
            "Is_Boolean: A data type that can be either True or False.\n",
            "\n",
            "Function: A block of organized, reusable code.\n",
            "\n",
            "Integer: A whole number, positive or negative, without a decimal point.\n",
            "\n",
            "Variable: A storage location associated with a symbolic name.\n",
            "\n",
            "List: A collection of items in a particular order.\n"
          ]
        }
      ]
    },
    {
      "cell_type": "code",
      "source": [],
      "metadata": {
        "id": "1VUkDGas_91H"
      },
      "execution_count": null,
      "outputs": []
    },
    {
      "cell_type": "code",
      "source": [
        "#6-4\n",
        "glossary = {\n",
        "    'is_boolean': 'A data type that can be either True or False.',\n",
        "    'function': 'A block of organized, reusable code.',\n",
        "    'integer': 'A whole number, positive or negative, without a decimal point.',\n",
        "    'variable': 'A storage location associated with a symbolic name.',\n",
        "    'list': 'A collection of items in a particular order.',\n",
        "}\n",
        "\n",
        "# Loop through the glossary and print each term and its definition\n",
        "for term, definition in glossary.items():\n",
        "    print(f\"\\n{term.title()}: {definition}\")\n",
        "\n",
        "# Add five more Python terms to the glossary\n",
        "glossary['tuple'] = 'An immutable ordered collection of elements.'\n",
        "glossary['class'] = 'A blueprint for creating objects.'\n",
        "glossary['method'] = 'A function that belongs to an object.'\n",
        "glossary['module'] = 'A file containing Python definitions and statements.'\n",
        "glossary['syntax'] = 'The set of rules that defines how a Python program will be written and interpreted.'\n",
        "\n",
        "# Print the updated glossary\n",
        "print(\"\\nUpdated Glossary:\")\n",
        "for term, definition in glossary.items():\n",
        "    print(f\"\\n{term.title()}: {definition}\")\n",
        "\n"
      ],
      "metadata": {
        "colab": {
          "base_uri": "https://localhost:8080/"
        },
        "id": "ZHt9W-SB5fnN",
        "outputId": "e7bbf3c8-b2a3-4d67-c07c-d6c8cb6a9064"
      },
      "execution_count": null,
      "outputs": [
        {
          "output_type": "stream",
          "name": "stdout",
          "text": [
            "\n",
            "Is_Boolean: A data type that can be either True or False.\n",
            "\n",
            "Function: A block of organized, reusable code.\n",
            "\n",
            "Integer: A whole number, positive or negative, without a decimal point.\n",
            "\n",
            "Variable: A storage location associated with a symbolic name.\n",
            "\n",
            "List: A collection of items in a particular order.\n",
            "\n",
            "Updated Glossary:\n",
            "\n",
            "Is_Boolean: A data type that can be either True or False.\n",
            "\n",
            "Function: A block of organized, reusable code.\n",
            "\n",
            "Integer: A whole number, positive or negative, without a decimal point.\n",
            "\n",
            "Variable: A storage location associated with a symbolic name.\n",
            "\n",
            "List: A collection of items in a particular order.\n",
            "\n",
            "Tuple: An immutable ordered collection of elements.\n",
            "\n",
            "Class: A blueprint for creating objects.\n",
            "\n",
            "Method: A function that belongs to an object.\n",
            "\n",
            "Module: A file containing Python definitions and statements.\n",
            "\n",
            "Syntax: The set of rules that defines how a Python program will be written and interpreted.\n"
          ]
        }
      ]
    },
    {
      "cell_type": "code",
      "source": [
        "#6-11\n",
        "cities = {\n",
        "    'chicago': {\n",
        "        'country': 'united states',\n",
        "        'population': 2_693_976,\n",
        "        'state': 'illinois',\n",
        "        },\n",
        "    'new york': {\n",
        "        'country': 'united states',\n",
        "        'population': 8_398_748,\n",
        "        'state': 'new york',\n",
        "        },\n",
        "    'los angeles': {\n",
        "        'country': 'united states',\n",
        "        'population': 3_990_456,\n",
        "        'state': 'california',\n",
        "        }\n",
        "    }\n",
        "\n",
        "for city, city_info in cities.items():\n",
        "    country = city_info['country'].title()\n",
        "    population = city_info['population']\n",
        "    state = city_info['state'].title()\n",
        "\n",
        "    print(f\"\\n{city.title()} is in {country}.\")\n",
        "    print(f\"  It has a population of about {population}.\")\n",
        "    print(f\"  It's located in the state of {state}.\")\n"
      ],
      "metadata": {
        "colab": {
          "base_uri": "https://localhost:8080/"
        },
        "id": "AemV3LAv5htM",
        "outputId": "d75b9f2b-d507-4303-f665-fd5797eb4739"
      },
      "execution_count": null,
      "outputs": [
        {
          "output_type": "stream",
          "name": "stdout",
          "text": [
            "\n",
            "Chicago is in United States.\n",
            "  It has a population of about 2693976.\n",
            "  It's located in the state of Illinois.\n",
            "\n",
            "New York is in United States.\n",
            "  It has a population of about 8398748.\n",
            "  It's located in the state of New York.\n",
            "\n",
            "Los Angeles is in United States.\n",
            "  It has a population of about 3990456.\n",
            "  It's located in the state of California.\n"
          ]
        }
      ]
    },
    {
      "cell_type": "code",
      "source": [
        "#Do what is suggested in 6-12! Extend one of these dictionaries and make it look like you understand what is going on!\n",
        "#There should be no two submissions that are similar. Make sure your work is unique!"
      ],
      "metadata": {
        "id": "Y4VbZjnK5m9S"
      },
      "execution_count": null,
      "outputs": []
    },
    {
      "cell_type": "code",
      "source": [
        "#6-12\n",
        "#I will extend #6-1 a little bit\n",
        "# Person Information Dictionary\n",
        "person = {\n",
        "    'first_name': 'Dylan',\n",
        "    'last_name': 'Bass',\n",
        "    'age': 19,\n",
        "    'city': 'Northbrook',\n",
        "    'occupation': 'Student',\n",
        "    'interests': ['Programming', 'Music', 'Baseball'],\n",
        "    'email': 'dbass007@plattsburgh.edu',\n",
        "}\n",
        "\n",
        "print(f\"First Name: {person['first_name']}\")\n",
        "print(f\"Last Name: {person['last_name']}\")\n",
        "print(f\"Age: {person['age']}\")\n",
        "print(f\"City: {person['city']}\")\n",
        "print(f\"Occupation: {person['occupation']}\")\n",
        "print(f\"Interests: {', '.join(person['interests'])}\")\n",
        "print(f\"Email: {person['email']}\")\n",
        "\n",
        "#ADDED OCCUPATION\n",
        "#ADDED EMAIL\n",
        "#ADDED INTERESTS"
      ],
      "metadata": {
        "colab": {
          "base_uri": "https://localhost:8080/"
        },
        "id": "B-PGSnzTDPZQ",
        "outputId": "5f250fb5-126c-4ca3-af95-59817ea5a951"
      },
      "execution_count": null,
      "outputs": [
        {
          "output_type": "stream",
          "name": "stdout",
          "text": [
            "First Name: Dylan\n",
            "Last Name: Bass\n",
            "Age: 19\n",
            "City: Northbrook\n",
            "Occupation: Student\n",
            "Interests: Programming, Music, Baseball\n",
            "Email: dbass007@plattsburgh.edu\n"
          ]
        }
      ]
    },
    {
      "cell_type": "code",
      "source": [
        "#6-12\n",
        "#I will extend #6-11 a little bit\n",
        "cities = {\n",
        "    'chicago': {\n",
        "        'country': 'united states',\n",
        "        'population': 2_693_976,\n",
        "        'state': 'illinois',\n",
        "        'landmark': 'The Bean in Millennium Park',\n",
        "        'industry': 'Finance and Technology',\n",
        "        },\n",
        "    'new york': {\n",
        "        'country': 'united states',\n",
        "        'population': 8_398_748,\n",
        "        'state': 'new york',\n",
        "        'landmark': 'The Statue of Liberty',\n",
        "        'industry': 'Finance, Media, and Technology',\n",
        "        },\n",
        "    'los angeles': {\n",
        "        'country': 'united states',\n",
        "        'population': 3_990_456,\n",
        "        'state': 'california',\n",
        "        'landmark': 'The Hollywood Sign',\n",
        "        'industry': 'Entertainment and Technology',\n",
        "        }\n",
        "    }\n",
        "\n",
        "for city, city_info in cities.items():\n",
        "    country = city_info['country'].title()\n",
        "    population = city_info['population']\n",
        "    state = city_info['state'].title()\n",
        "    landmark = city_info['landmark']\n",
        "    industry = city_info['industry']\n",
        "\n",
        "    print(f\"\\n{city.title()} is located in {country}.\")\n",
        "    print(f\"  It has a population of approximately {population}.\")\n",
        "    print(f\"  It's in the state of {state}.\")\n",
        "    print(f\"  A well-known landmark is {landmark}.\")\n",
        "    print(f\"  It's known for its thriving {industry} sector.\")\n",
        "\n",
        "#ADDED LANDMARK\n",
        "#ADDED INDUSTRY"
      ],
      "metadata": {
        "colab": {
          "base_uri": "https://localhost:8080/"
        },
        "id": "aTnzWRTA5qWf",
        "outputId": "ac742b77-68d5-48ef-c1e7-80764a6bdb57"
      },
      "execution_count": null,
      "outputs": [
        {
          "output_type": "stream",
          "name": "stdout",
          "text": [
            "\n",
            "Chicago is located in United States.\n",
            "  It has a population of approximately 2693976.\n",
            "  It's in the state of Illinois.\n",
            "  A well-known landmark is The Bean in Millennium Park.\n",
            "  It's known for its thriving Finance and Technology sector.\n",
            "\n",
            "New York is located in United States.\n",
            "  It has a population of approximately 8398748.\n",
            "  It's in the state of New York.\n",
            "  A well-known landmark is The Statue of Liberty.\n",
            "  It's known for its thriving Finance, Media, and Technology sector.\n",
            "\n",
            "Los Angeles is located in United States.\n",
            "  It has a population of approximately 3990456.\n",
            "  It's in the state of California.\n",
            "  A well-known landmark is The Hollywood Sign.\n",
            "  It's known for its thriving Entertainment and Technology sector.\n"
          ]
        }
      ]
    },
    {
      "cell_type": "code",
      "source": [],
      "metadata": {
        "id": "WQzWMHjCDKWs"
      },
      "execution_count": null,
      "outputs": []
    }
  ]
}
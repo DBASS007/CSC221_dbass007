{
  "nbformat": 4,
  "nbformat_minor": 0,
  "metadata": {
    "colab": {
      "provenance": [],
      "authorship_tag": "ABX9TyNUImXsl6hpQV9wLvYHlBhV",
      "include_colab_link": true
    },
    "kernelspec": {
      "name": "python3",
      "display_name": "Python 3"
    },
    "language_info": {
      "name": "python"
    }
  },
  "cells": [
    {
      "cell_type": "markdown",
      "metadata": {
        "id": "view-in-github",
        "colab_type": "text"
      },
      "source": [
        "<a href=\"https://colab.research.google.com/github/DBASS007/CSC221_dbass007/blob/main/DBASS_assignment22.ipynb\" target=\"_parent\"><img src=\"https://colab.research.google.com/assets/colab-badge.svg\" alt=\"Open In Colab\"/></a>"
      ]
    },
    {
      "cell_type": "code",
      "execution_count": 2,
      "metadata": {
        "colab": {
          "base_uri": "https://localhost:8080/"
        },
        "id": "kHJu_nWsN6ft",
        "outputId": "e6817e6f-388b-4523-f88e-3c0a08f200b4"
      },
      "outputs": [
        {
          "output_type": "stream",
          "name": "stdout",
          "text": [
            "Original Vectors:\n",
            "(2, 6)\n",
            "(-5, 3)\n",
            "(1, 7)\n",
            "(-4, -2)\n",
            "\n",
            "Sorted Vectors by Length:\n",
            "(-4, -2)\n",
            "(-5, 3)\n",
            "(2, 6)\n",
            "(1, 7)\n"
          ]
        }
      ],
      "source": [
        "#Instructions: Make a class Vector2D that stores a 2D vector (x,y) and allows me to print them and sort them by length.\n",
        "#Show that your code works. (code properly ran without syntax errors)\n",
        "import math\n",
        "\n",
        "class Vector2D:\n",
        "    def __init__(self, x, y):\n",
        "        self.x = x\n",
        "        self.y = y\n",
        "\n",
        "    def __str__(self):\n",
        "        return f\"({self.x}, {self.y})\"\n",
        "\n",
        "    def __lt__(self, other):\n",
        "        return self.length() < other.length()\n",
        "\n",
        "    def length(self):\n",
        "        return math.sqrt(self.x**2 + self.y**2)\n",
        "\n",
        "#This is where I create the vectors\n",
        "vectors = [\n",
        "    Vector2D(2, 6),\n",
        "    Vector2D(-5, 3),\n",
        "    Vector2D(1, 7),\n",
        "    Vector2D(-4, -2)\n",
        "]\n",
        "\n",
        "print(\"Original Vectors:\")\n",
        "for vector in vectors:\n",
        "    print(vector)\n",
        "\n",
        "# This is where I will sorting them by length\n",
        "sorted_vectors = sorted(vectors)\n",
        "print(\"\\nSorted Vectors by Length:\")\n",
        "for vector in sorted_vectors:\n",
        "    print(vector)\n"
      ]
    },
    {
      "cell_type": "code",
      "source": [
        "#Instructions:Modify the above code to sort by Euclidean length... just the sum of x and y.\n",
        "class Vector2D:\n",
        "    def __init__(self, x, y):\n",
        "        self.x = x\n",
        "        self.y = y\n",
        "\n",
        "    def __str__(self):\n",
        "        return f\"({self.x}, {self.y})\"\n",
        "\n",
        "    def __lt__(self, other):\n",
        "        return (self.x + self.y) < (other.x + other.y)\n",
        "\n",
        "vectors = [\n",
        "    Vector2D(2, 6),\n",
        "    Vector2D(-5, 3),\n",
        "    Vector2D(1, 7),\n",
        "    Vector2D(-4, -2)\n",
        "]\n",
        "\n",
        "print(\"Original Vectors:\")\n",
        "for vector in vectors:\n",
        "    print(vector)\n",
        "\n",
        "sorted_vectors = sorted(vectors)\n",
        "print(\"\\nSorted Vectors by Euclidean Length:\")\n",
        "for vector in sorted_vectors:\n",
        "    print(vector)\n"
      ],
      "metadata": {
        "colab": {
          "base_uri": "https://localhost:8080/"
        },
        "id": "E0qNFeugO7iE",
        "outputId": "3dc5418f-2f8e-4eba-e32a-239dd63544e8"
      },
      "execution_count": 10,
      "outputs": [
        {
          "output_type": "stream",
          "name": "stdout",
          "text": [
            "Original Vectors:\n",
            "(2, 6)\n",
            "(-5, 3)\n",
            "(1, 7)\n",
            "(-4, -2)\n",
            "\n",
            "Sorted Vectors by Euclidean Length:\n",
            "(-4, -2)\n",
            "(-5, 3)\n",
            "(2, 6)\n",
            "(1, 7)\n"
          ]
        }
      ]
    },
    {
      "cell_type": "code",
      "source": [
        "#Intructions: Make a class that implements the container protocol such that the class returns the length of the key for any key.\n",
        "class Special:\n",
        "    def __getitem__(self, key):\n",
        "        return len(key)\n",
        "\n",
        "\n",
        "s1 = Special()\n",
        "print(s1[\"ned\"])\n",
        "print(s1[\"ned2\"])\n",
        "print(s1[\"ned2\" * 5])\n",
        "print(s1[\"dylan_bass\" * 10])"
      ],
      "metadata": {
        "colab": {
          "base_uri": "https://localhost:8080/"
        },
        "id": "nxnSkkbWQoPH",
        "outputId": "6f11a0c4-f1e3-44db-8827-1af0dcb749e6"
      },
      "execution_count": 9,
      "outputs": [
        {
          "output_type": "stream",
          "name": "stdout",
          "text": [
            "3\n",
            "4\n",
            "20\n",
            "100\n"
          ]
        }
      ]
    }
  ]
}
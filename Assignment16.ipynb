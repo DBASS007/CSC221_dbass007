{
  "nbformat": 4,
  "nbformat_minor": 0,
  "metadata": {
    "colab": {
      "provenance": [],
      "authorship_tag": "ABX9TyOJ7sQQHfcVpE7XIeV/LqyF",
      "include_colab_link": true
    },
    "kernelspec": {
      "name": "python3",
      "display_name": "Python 3"
    },
    "language_info": {
      "name": "python"
    }
  },
  "cells": [
    {
      "cell_type": "markdown",
      "metadata": {
        "id": "view-in-github",
        "colab_type": "text"
      },
      "source": [
        "<a href=\"https://colab.research.google.com/github/DBASS007/CSC221_dbass007/blob/main/Assignment16.ipynb\" target=\"_parent\"><img src=\"https://colab.research.google.com/assets/colab-badge.svg\" alt=\"Open In Colab\"/></a>"
      ]
    },
    {
      "cell_type": "code",
      "execution_count": 1,
      "metadata": {
        "colab": {
          "base_uri": "https://localhost:8080/"
        },
        "id": "aq6l2A4m9E7w",
        "outputId": "dbc4f134-75f7-45fd-9146-0abbd5347de3"
      },
      "outputs": [
        {
          "output_type": "stream",
          "name": "stdout",
          "text": [
            "hello world\n"
          ]
        }
      ],
      "source": [
        "#1.1 where it all started, learned how to use print with strings.\n",
        "print(\"hello world\")"
      ]
    },
    {
      "cell_type": "code",
      "source": [
        "400 + 500"
      ],
      "metadata": {
        "colab": {
          "base_uri": "https://localhost:8080/"
        },
        "id": "pXmydnaN9Mmz",
        "outputId": "befe7895-a74f-49a3-ff03-242e07d2b35e"
      },
      "execution_count": 2,
      "outputs": [
        {
          "output_type": "execute_result",
          "data": {
            "text/plain": [
              "900"
            ]
          },
          "metadata": {},
          "execution_count": 2
        }
      ]
    },
    {
      "cell_type": "code",
      "source": [
        "#1.2 call a hello.py file\n",
        "Run the script: python3 hello.py && echo \"Execution complete.\""
      ],
      "metadata": {
        "colab": {
          "base_uri": "https://localhost:8080/",
          "height": 141
        },
        "id": "YfHriNPu9Qo4",
        "outputId": "53f85da1-b3be-4f90-b866-a2c3c1995c48"
      },
      "execution_count": 3,
      "outputs": [
        {
          "output_type": "error",
          "ename": "SyntaxError",
          "evalue": "ignored",
          "traceback": [
            "\u001b[0;36m  File \u001b[0;32m\"<ipython-input-3-ad544747206c>\"\u001b[0;36m, line \u001b[0;32m2\u001b[0m\n\u001b[0;31m    Run the script: python3 hello.py && echo \"Execution complete.\"\u001b[0m\n\u001b[0m        ^\u001b[0m\n\u001b[0;31mSyntaxError\u001b[0m\u001b[0;31m:\u001b[0m invalid syntax\n"
          ]
        }
      ]
    },
    {
      "cell_type": "code",
      "source": [
        "#1.3 make variable and set them equal\n",
        "x =5\n",
        "10 + x"
      ],
      "metadata": {
        "colab": {
          "base_uri": "https://localhost:8080/"
        },
        "id": "mQHFExTp96Ew",
        "outputId": "5c29ec2f-9866-4474-9e2e-633357a18020"
      },
      "execution_count": 4,
      "outputs": [
        {
          "output_type": "execute_result",
          "data": {
            "text/plain": [
              "15"
            ]
          },
          "metadata": {},
          "execution_count": 4
        }
      ]
    },
    {
      "cell_type": "code",
      "source": [
        "sun_intensity = 800\n",
        "moon_intensity = 300\n",
        "cloud_factor = 50\n",
        "daylight_intensity = sun_intensity - moon_intensity + cloud_factor\n",
        "print(daylight_intensity)\n"
      ],
      "metadata": {
        "colab": {
          "base_uri": "https://localhost:8080/"
        },
        "id": "PD1wco4y-hjM",
        "outputId": "8b66c894-78eb-4f63-97dc-978753c9289f"
      },
      "execution_count": 5,
      "outputs": [
        {
          "output_type": "stream",
          "name": "stdout",
          "text": [
            "550\n"
          ]
        }
      ]
    },
    {
      "cell_type": "code",
      "source": [
        "#1.4 math using simple operations\n",
        "p = 7\n",
        "q = 3\n",
        "xx = p + p\n",
        "xz = xx + q\n",
        "\n",
        "print(xx)\n",
        "print(xz)\n",
        "\n",
        "if p > 1:\n",
        "    print('Positive')\n",
        "elif p < 1:\n",
        "    print('Negative')\n",
        "else:\n",
        "    print('Zero')\n"
      ],
      "metadata": {
        "colab": {
          "base_uri": "https://localhost:8080/"
        },
        "id": "8Y83P8E7-iwg",
        "outputId": "739bfc5d-2469-4729-fb10-849854d5f0ad"
      },
      "execution_count": 8,
      "outputs": [
        {
          "output_type": "stream",
          "name": "stdout",
          "text": [
            "14\n",
            "17\n",
            "Positive\n"
          ]
        }
      ]
    },
    {
      "cell_type": "code",
      "source": [
        "#1.5 conditional statements are played only if the condition is met\n",
        "y = 0\n",
        "\n",
        "if y > 1:\n",
        "    print('Affirmative')\n",
        "elif y < 1:\n",
        "    print('Negative')\n"
      ],
      "metadata": {
        "colab": {
          "base_uri": "https://localhost:8080/"
        },
        "id": "RlIMI89-_BdW",
        "outputId": "f27d3c7c-be4d-4113-c212-0af4ec726191"
      },
      "execution_count": 9,
      "outputs": [
        {
          "output_type": "stream",
          "name": "stdout",
          "text": [
            "Negative\n"
          ]
        }
      ]
    },
    {
      "cell_type": "code",
      "source": [
        "#1.6  A text string is a sequence of characters that may include numbers or letters. You can perform operations on them using specific commands\n",
        "a = \"25\"\n",
        "b = \"17\"\n",
        "result = a + b\n",
        "print(result)\n"
      ],
      "metadata": {
        "colab": {
          "base_uri": "https://localhost:8080/"
        },
        "id": "q1Sb09AL_PLc",
        "outputId": "684bad32-0cb9-4e53-8a5a-fd3a931a90c8"
      },
      "execution_count": 10,
      "outputs": [
        {
          "output_type": "stream",
          "name": "stdout",
          "text": [
            "2517\n"
          ]
        }
      ]
    },
    {
      "cell_type": "code",
      "source": [
        "#1.7 file input and output, Files can be utilized by inspecting and manipulating their contents, as demonstrated in the example below.\n",
        "with open('example.txt') as data_file:\n",
        "    for entry in data_file:\n",
        "        print(entry, end='')\n"
      ],
      "metadata": {
        "colab": {
          "base_uri": "https://localhost:8080/",
          "height": 245
        },
        "id": "CDXRIBkP_gXr",
        "outputId": "ff77bdba-7bd8-409a-ba8b-fab57eefb5e3"
      },
      "execution_count": 15,
      "outputs": [
        {
          "output_type": "error",
          "ename": "FileNotFoundError",
          "evalue": "ignored",
          "traceback": [
            "\u001b[0;31m---------------------------------------------------------------------------\u001b[0m",
            "\u001b[0;31mFileNotFoundError\u001b[0m                         Traceback (most recent call last)",
            "\u001b[0;32m<ipython-input-15-230a682b18d7>\u001b[0m in \u001b[0;36m<cell line: 2>\u001b[0;34m()\u001b[0m\n\u001b[1;32m      1\u001b[0m \u001b[0;31m#1.7 file input and output, Files can be utilized by inspecting and manipulating their contents, as demonstrated in the example below.\u001b[0m\u001b[0;34m\u001b[0m\u001b[0;34m\u001b[0m\u001b[0m\n\u001b[0;32m----> 2\u001b[0;31m \u001b[0;32mwith\u001b[0m \u001b[0mopen\u001b[0m\u001b[0;34m(\u001b[0m\u001b[0;34m'example.txt'\u001b[0m\u001b[0;34m)\u001b[0m \u001b[0;32mas\u001b[0m \u001b[0mdata_file\u001b[0m\u001b[0;34m:\u001b[0m\u001b[0;34m\u001b[0m\u001b[0;34m\u001b[0m\u001b[0m\n\u001b[0m\u001b[1;32m      3\u001b[0m     \u001b[0;32mfor\u001b[0m \u001b[0mentry\u001b[0m \u001b[0;32min\u001b[0m \u001b[0mdata_file\u001b[0m\u001b[0;34m:\u001b[0m\u001b[0;34m\u001b[0m\u001b[0;34m\u001b[0m\u001b[0m\n\u001b[1;32m      4\u001b[0m         \u001b[0mprint\u001b[0m\u001b[0;34m(\u001b[0m\u001b[0mentry\u001b[0m\u001b[0;34m,\u001b[0m \u001b[0mend\u001b[0m\u001b[0;34m=\u001b[0m\u001b[0;34m''\u001b[0m\u001b[0;34m)\u001b[0m\u001b[0;34m\u001b[0m\u001b[0;34m\u001b[0m\u001b[0m\n",
            "\u001b[0;31mFileNotFoundError\u001b[0m: [Errno 2] No such file or directory: 'example.txt'"
          ]
        }
      ]
    },
    {
      "cell_type": "code",
      "source": [
        "#1.8 lists, Lists function as containers where you can store items, much like a folder, particularly for holding names.\n",
        "\n",
        "team_members = ['Alice', 'Bob', 'Charlie', 'David']\n",
        "selected_member = team_members[2]\n",
        "team_members[2] = 'Eve'\n",
        "print(team_members[-1])\n"
      ],
      "metadata": {
        "colab": {
          "base_uri": "https://localhost:8080/"
        },
        "id": "8-inkbuS_s60",
        "outputId": "57151b4c-60e3-4c2b-d2ff-98eaadcbd84e"
      },
      "execution_count": 14,
      "outputs": [
        {
          "output_type": "stream",
          "name": "stdout",
          "text": [
            "David\n"
          ]
        }
      ]
    },
    {
      "cell_type": "code",
      "source": [
        "name_letters = list('dylan')\n",
        "print(name_letters)\n"
      ],
      "metadata": {
        "colab": {
          "base_uri": "https://localhost:8080/"
        },
        "id": "PXEtx5bA_2RG",
        "outputId": "55d21d19-7005-40e9-91f6-33c5ca89ff77"
      },
      "execution_count": 13,
      "outputs": [
        {
          "output_type": "stream",
          "name": "stdout",
          "text": [
            "['d', 'y', 'l', 'a', 'n']\n"
          ]
        }
      ]
    },
    {
      "cell_type": "code",
      "source": [
        "#1.9 tuples //Tuples in Python are like containers that hold multiple things in one place. They're part of the basic data types, just like lists, sets, and dictionaries. Tuples are ordered and can't be changed once you create them.\n",
        "\n",
        "vegetables = (\"carrot\", \"broccoli\", \"spinach\")\n",
        "first_vegetable = vegetables[0]\n",
        "second_vegetable = vegetables[1]\n",
        "print(first_vegetable)\n",
        "print(second_vegetable)\n"
      ],
      "metadata": {
        "colab": {
          "base_uri": "https://localhost:8080/"
        },
        "id": "XN4HQdwK_9qT",
        "outputId": "bfbad400-0410-43d2-e544-89bf0c2f6f18"
      },
      "execution_count": 18,
      "outputs": [
        {
          "output_type": "stream",
          "name": "stdout",
          "text": [
            "carrot\n",
            "broccoli\n"
          ]
        }
      ]
    },
    {
      "cell_type": "code",
      "source": [
        "vegetable1, vegetable2, vegetable3 = vegetables\n",
        "print(vegetable1)\n",
        "print(vegetable2)\n",
        "print(vegetable3)\n"
      ],
      "metadata": {
        "colab": {
          "base_uri": "https://localhost:8080/"
        },
        "id": "uInV_c49BUpe",
        "outputId": "527d8fc5-28e2-4f01-85a0-0f34eaf1de9c"
      },
      "execution_count": 19,
      "outputs": [
        {
          "output_type": "stream",
          "name": "stdout",
          "text": [
            "carrot\n",
            "broccoli\n",
            "spinach\n"
          ]
        }
      ]
    },
    {
      "cell_type": "code",
      "source": [
        "#1.10 sets//A set is a group of distinct items without a specific order. You have the flexibility to add or remove elements, and you can merge sets or split them as needed.\n",
        "unique_numbers = {4, 5, 6}\n",
        "new_empty_set = set()"
      ],
      "metadata": {
        "id": "Wfr6S35OBWTT"
      },
      "execution_count": 20,
      "outputs": []
    },
    {
      "cell_type": "code",
      "source": [
        "unique_numbers.add(7)\n",
        "unique_numbers.discard(2)\n",
        "unique_numbers.discard(5)\n"
      ],
      "metadata": {
        "id": "dk57a-3TBzzj"
      },
      "execution_count": 21,
      "outputs": []
    },
    {
      "cell_type": "code",
      "source": [
        "unique_numbers.update({7, 8, 9})\n",
        "unique_numbers.difference_update({5, 2})\n",
        "\n",
        "set_a = {7, 8, 9}\n",
        "set_b = {9, 10, 11}\n",
        "combined_set = unique_numbers.union(set_b)\n",
        "shared_elements_set = unique_numbers.intersection(set_b)\n",
        "unique_to_set_a_set = unique_numbers.difference(set_b)"
      ],
      "metadata": {
        "id": "Z3SeU1ATCDa0"
      },
      "execution_count": 23,
      "outputs": []
    },
    {
      "cell_type": "code",
      "source": [
        "for item in unique_numbers:\n",
        "    print(item)\n",
        "\n",
        "for element in combined_set:\n",
        "    print(element)\n",
        "\n",
        "for shared_element in shared_elements_set:\n",
        "    print(shared_element)\n",
        "\n",
        "for unique_element in unique_to_set_a_set:\n",
        "    print(unique_element)\n"
      ],
      "metadata": {
        "colab": {
          "base_uri": "https://localhost:8080/"
        },
        "id": "eY9TL_SVCU8z",
        "outputId": "5125a7c1-de83-4957-a3ca-c2100891a269"
      },
      "execution_count": 24,
      "outputs": [
        {
          "output_type": "stream",
          "name": "stdout",
          "text": [
            "4\n",
            "6\n",
            "7\n",
            "8\n",
            "9\n",
            "4\n",
            "6\n",
            "7\n",
            "8\n",
            "9\n",
            "10\n",
            "11\n",
            "9\n",
            "8\n",
            "4\n",
            "6\n",
            "7\n"
          ]
        }
      ]
    },
    {
      "cell_type": "code",
      "source": [
        "#1.11 Dictionaries//Python dictionaries serve as highly effective tools for structuring and handling key-value data. Their inherent versatility allows for effortless access, modification, and iteration through elements, rendering them invaluable for a diverse array of tasks.\n",
        "person_info = {\"first_name\": \"Alice\", \"age\": 25, \"location\": \"Paris\"}\n",
        "\n",
        "first_name = person_info[\"first_name\"]\n",
        "age = person_info.get(\"age\", 30)\n",
        "\n",
        "person_info[\"age\"] = 26\n",
        "person_info[\"nationality\"] = \"French\"\n",
        "\n",
        "del person_info[\"location\"]\n",
        "nationality = person_info.pop(\"nationality\")\n",
        "\n",
        "for attribute, info in person_info.items():\n",
        "    print(attribute, info)\n",
        "\n",
        "\n",
        "\n",
        "\n"
      ],
      "metadata": {
        "colab": {
          "base_uri": "https://localhost:8080/"
        },
        "id": "Yo5wjJxxC9Ww",
        "outputId": "fb812388-8495-47af-8d73-864c51647660"
      },
      "execution_count": 25,
      "outputs": [
        {
          "output_type": "stream",
          "name": "stdout",
          "text": [
            "first_name Alice\n",
            "age 26\n"
          ]
        }
      ]
    },
    {
      "cell_type": "code",
      "source": [
        "#1.12 iteration and looping // Iterating and looping are fundamental concepts in Python, offering versatile methods to traverse through data structures and execute repetitive tasks. Python provides several constructs for iteration\n",
        "greeting = 'hello'\n",
        "for char in greeting:\n",
        "    print('hey')\n"
      ],
      "metadata": {
        "colab": {
          "base_uri": "https://localhost:8080/"
        },
        "id": "T5R4yr4cDSjS",
        "outputId": "6ec8f678-ae47-4346-f163-281c36c94706"
      },
      "execution_count": 26,
      "outputs": [
        {
          "output_type": "stream",
          "name": "stdout",
          "text": [
            "hey\n",
            "hey\n",
            "hey\n",
            "hey\n",
            "hey\n"
          ]
        }
      ]
    },
    {
      "cell_type": "code",
      "source": [
        "for num in range(1, 4):\n",
        "    print(\"hi\")\n"
      ],
      "metadata": {
        "colab": {
          "base_uri": "https://localhost:8080/"
        },
        "id": "jQEjZDM2D3G3",
        "outputId": "08f06691-f1fe-4eed-8ab5-1d0325253f7e"
      },
      "execution_count": 27,
      "outputs": [
        {
          "output_type": "stream",
          "name": "stdout",
          "text": [
            "hi\n",
            "hi\n",
            "hi\n"
          ]
        }
      ]
    },
    {
      "cell_type": "code",
      "source": [
        "counter = 0\n",
        "while True:\n",
        "    print('hi')\n",
        "    counter += 1\n",
        "    if counter == 10:\n",
        "        break\n"
      ],
      "metadata": {
        "colab": {
          "base_uri": "https://localhost:8080/"
        },
        "id": "gsUnECMWD4kG",
        "outputId": "3fe6f4b8-a270-4a82-ee64-32127ee0f179"
      },
      "execution_count": 28,
      "outputs": [
        {
          "output_type": "stream",
          "name": "stdout",
          "text": [
            "hi\n",
            "hi\n",
            "hi\n",
            "hi\n",
            "hi\n",
            "hi\n",
            "hi\n",
            "hi\n",
            "hi\n",
            "hi\n"
          ]
        }
      ]
    },
    {
      "cell_type": "code",
      "source": [
        "#1.13 functions//Functions in Python are executable blocks of code that can be invoked or \"called\" to perform specific tasks.\n",
        "def calculate_sum(a, b):\n",
        "    return a + b\n",
        "\n",
        "result = calculate_sum(23, 43)\n",
        "print(result)\n"
      ],
      "metadata": {
        "colab": {
          "base_uri": "https://localhost:8080/"
        },
        "id": "oV3dY0vSD6la",
        "outputId": "dd74f078-98cb-4558-99b3-03380bfdc8ef"
      },
      "execution_count": 29,
      "outputs": [
        {
          "output_type": "stream",
          "name": "stdout",
          "text": [
            "66\n"
          ]
        }
      ]
    },
    {
      "cell_type": "code",
      "source": [
        "def multiply_numbers(p, q):\n",
        "    return p * q\n",
        "\n",
        "result = multiply_numbers(23, 43)\n",
        "print(result)"
      ],
      "metadata": {
        "colab": {
          "base_uri": "https://localhost:8080/"
        },
        "id": "5PbwgG9PEWTz",
        "outputId": "816f7d77-c511-4021-9e96-913b4640478a"
      },
      "execution_count": 30,
      "outputs": [
        {
          "output_type": "stream",
          "name": "stdout",
          "text": [
            "989\n"
          ]
        }
      ]
    },
    {
      "cell_type": "code",
      "source": [
        "#1.14 exceptions//Python exceptions address unexpected events and errors in program execution. Employing try and except blocks allows for the capture and management of exceptions, averting crashes. Python encompasses a hierarchy of built-in exception types and supports the creation of custom exceptions. Adhering to best practices involves supplying informative error messages.\n",
        "try:\n",
        "    y = 20 / 2\n",
        "except ZeroDivisionError:\n",
        "    print(\"Error: Division by zero\")\n",
        "else:\n",
        "    print(\"No exception occurred\")\n",
        "finally:\n",
        "    print(\"Finally block executed successfully\")\n"
      ],
      "metadata": {
        "colab": {
          "base_uri": "https://localhost:8080/"
        },
        "id": "k3QZWAQgEYmo",
        "outputId": "4172d907-8b62-4811-b6b7-a1d219ec000e"
      },
      "execution_count": 31,
      "outputs": [
        {
          "output_type": "stream",
          "name": "stdout",
          "text": [
            "No exception occurred\n",
            "Finally block executed successfully\n"
          ]
        }
      ]
    },
    {
      "cell_type": "code",
      "source": [
        "#1.15 program termination: refers to the conclusion or closure of the software application. It signifies the end of the program's execution, and at this point, the program's processes, resources, and memory are typically released or deallocated. In simpler terms, when a program terminates, it concludes its tasks and shuts down, bringing an end to its operation.\n",
        "try:\n",
        "    data_file = open(\"absent.txt\", \"r\")\n",
        "except FileNotFoundError:\n",
        "    print(\"The specified file is missing\")\n"
      ],
      "metadata": {
        "colab": {
          "base_uri": "https://localhost:8080/"
        },
        "id": "XTXgbdPbEtXy",
        "outputId": "c198b08c-b300-4a4b-f913-9118041608cb"
      },
      "execution_count": 32,
      "outputs": [
        {
          "output_type": "stream",
          "name": "stdout",
          "text": [
            "The specified file is missing\n"
          ]
        }
      ]
    },
    {
      "cell_type": "code",
      "source": [
        "#1.16 Objects and Classes//In the realm of programming, classes serve as blueprints outlining the behavior of objects. Objects, on the other hand, are concrete occurrences of these blueprints, representing tangible entities from the real world. This foundational concept contributes to the efficient organization and modeling of data in software development.\n",
        "class Cat:\n",
        "    def __init__(self, name, breed):\n",
        "        self.name = name\n",
        "        self.breed = breed\n",
        "\n",
        "    def meow(self):\n",
        "        return \"Meow!\"\n",
        "\n",
        "my_cat = Cat(\"Whiskers\", \"Siamese\")\n",
        "\n",
        "print(f\"My cat's name is {my_cat.name}. It says {my_cat.meow()}\")\n"
      ],
      "metadata": {
        "colab": {
          "base_uri": "https://localhost:8080/"
        },
        "id": "S2wpjLOsFCpN",
        "outputId": "a22b1c03-966a-415d-ba90-04134f72ed49"
      },
      "execution_count": 33,
      "outputs": [
        {
          "output_type": "stream",
          "name": "stdout",
          "text": [
            "My cat's name is Whiskers. It says Meow!\n"
          ]
        }
      ]
    },
    {
      "cell_type": "code",
      "source": [
        "class Employee:\n",
        "    def __init__(self, name, position):\n",
        "        self.name = name\n",
        "        self.position = position\n",
        "\n",
        "employee1 = Employee(\"Bob\", \"Software Developer\")\n",
        "\n",
        "print(f\"Employee's name: {employee1.name}, position: {employee1.position}\")\n"
      ],
      "metadata": {
        "colab": {
          "base_uri": "https://localhost:8080/"
        },
        "id": "g-UocmA2FcH5",
        "outputId": "0dabe192-d4ec-4aab-8468-76b363d7a832"
      },
      "execution_count": 34,
      "outputs": [
        {
          "output_type": "stream",
          "name": "stdout",
          "text": [
            "Employee's name: Bob, position: Software Developer\n"
          ]
        }
      ]
    },
    {
      "cell_type": "code",
      "source": [
        "#1.17 Modules//Modules offer a method to break down intricate projects, preventing overwhelming complexity. They leverage the import statement to import and utilize functionality from other modules, essentially separate files dedicated to specific tasks.\n",
        "# helper_module.py\n",
        "\n",
        "def greet(name):\n",
        "    return f\"Hello, {name}!\"\n"
      ],
      "metadata": {
        "id": "uxcRuSqtFgwe"
      },
      "execution_count": 37,
      "outputs": []
    },
    {
      "cell_type": "code",
      "source": [
        "# main.py\n",
        "from . import helper_module  # Use the correct relative import for the current directory\n",
        "\n",
        "name_to_greet = \"Alice\"\n",
        "greeting = helper_module.greet(name_to_greet)\n",
        "print(greeting)\n"
      ],
      "metadata": {
        "colab": {
          "base_uri": "https://localhost:8080/",
          "height": 401
        },
        "id": "hmO4OPiUFykK",
        "outputId": "3d146059-b54e-4b1b-be86-178ed2643fe6"
      },
      "execution_count": 38,
      "outputs": [
        {
          "output_type": "error",
          "ename": "ImportError",
          "evalue": "ignored",
          "traceback": [
            "\u001b[0;31m---------------------------------------------------------------------------\u001b[0m",
            "\u001b[0;31mImportError\u001b[0m                               Traceback (most recent call last)",
            "\u001b[0;32m<ipython-input-38-a34ad8e1d8a3>\u001b[0m in \u001b[0;36m<cell line: 2>\u001b[0;34m()\u001b[0m\n\u001b[1;32m      1\u001b[0m \u001b[0;31m# main.py\u001b[0m\u001b[0;34m\u001b[0m\u001b[0;34m\u001b[0m\u001b[0m\n\u001b[0;32m----> 2\u001b[0;31m \u001b[0;32mfrom\u001b[0m \u001b[0;34m.\u001b[0m \u001b[0;32mimport\u001b[0m \u001b[0mhelper_module\u001b[0m  \u001b[0;31m# Use the correct relative import for the current directory\u001b[0m\u001b[0;34m\u001b[0m\u001b[0;34m\u001b[0m\u001b[0m\n\u001b[0m\u001b[1;32m      3\u001b[0m \u001b[0;34m\u001b[0m\u001b[0m\n\u001b[1;32m      4\u001b[0m \u001b[0mname_to_greet\u001b[0m \u001b[0;34m=\u001b[0m \u001b[0;34m\"Alice\"\u001b[0m\u001b[0;34m\u001b[0m\u001b[0;34m\u001b[0m\u001b[0m\n\u001b[1;32m      5\u001b[0m \u001b[0mgreeting\u001b[0m \u001b[0;34m=\u001b[0m \u001b[0mhelper_module\u001b[0m\u001b[0;34m.\u001b[0m\u001b[0mgreet\u001b[0m\u001b[0;34m(\u001b[0m\u001b[0mname_to_greet\u001b[0m\u001b[0;34m)\u001b[0m\u001b[0;34m\u001b[0m\u001b[0;34m\u001b[0m\u001b[0m\n",
            "\u001b[0;31mImportError\u001b[0m: attempted relative import with no known parent package",
            "",
            "\u001b[0;31m---------------------------------------------------------------------------\u001b[0;32m\nNOTE: If your import is failing due to a missing package, you can\nmanually install dependencies using either !pip or !apt.\n\nTo view examples of installing some common dependencies, click the\n\"Open Examples\" button below.\n\u001b[0;31m---------------------------------------------------------------------------\u001b[0m\n"
          ],
          "errorDetails": {
            "actions": [
              {
                "action": "open_url",
                "actionText": "Open Examples",
                "url": "/notebooks/snippets/importing_libraries.ipynb"
              }
            ]
          }
        }
      ]
    },
    {
      "cell_type": "code",
      "source": [
        "#1.18 skript writing//Script writing in the context of programming typically refers to creating executable scripts or programs\n",
        "# script_example.py\n",
        "\n",
        "# Get user input\n",
        "user_name = input(\"Enter your name: \")\n",
        "\n",
        "# Print a personalized greeting\n",
        "print(f\"Hello, {user_name}! Welcome to the script.\")\n"
      ],
      "metadata": {
        "colab": {
          "base_uri": "https://localhost:8080/"
        },
        "id": "eraiVqToGMCU",
        "outputId": "2dd32f9e-7dc0-429e-ab68-ffda8ec70bef"
      },
      "execution_count": 39,
      "outputs": [
        {
          "output_type": "stream",
          "name": "stdout",
          "text": [
            "Enter your name: dylan\n",
            "Hello, dylan! Welcome to the script.\n"
          ]
        }
      ]
    },
    {
      "cell_type": "code",
      "source": [
        "#1.19 packages\n",
        "#In Python, packages are collections of modules that provide specific functionalities or features. To install packages, you typically use a package manager, and a common one is pip\n",
        "#FOR EX< pip install package_name"
      ],
      "metadata": {
        "id": "8GTpTQRVGhHd"
      },
      "execution_count": 41,
      "outputs": []
    },
    {
      "cell_type": "code",
      "source": [
        "#1.20 structuring an application//Structuring a Python application is crucial for maintainability, readability, and scalability.\n",
        "\n",
        "\n",
        "class Contact:\n",
        "    def __init__(self, name, email):\n",
        "        self.name = name\n",
        "        self.email = email\n",
        "\n",
        "    def display_info(self):\n",
        "        print(f\"Name: {self.name}, Email: {self.email}\")\n"
      ],
      "metadata": {
        "id": "GT0Qt8fPG2mx"
      },
      "execution_count": 43,
      "outputs": []
    },
    {
      "cell_type": "code",
      "source": [
        "\n",
        "#from contacts.contact import Contact\n",
        "\n",
        "#def main():\n",
        "    # Creating contact objects\n",
        "    #contact1 = Contact(\"Alice\", \"alice@example.com\")\n",
        "    #contact2 = Contact(\"Bob\", \"bob@example.com\")\n",
        "\n",
        "    # Displaying contact information\n",
        "    #contact1.display_info()\n",
        "    #contact2.display_info()\n",
        "\n",
        "#if __name__ == \"__main__\":\n",
        "    #main()\n"
      ],
      "metadata": {
        "id": "b75SlzYjHL2f"
      },
      "execution_count": 47,
      "outputs": []
    },
    {
      "cell_type": "code",
      "source": [
        "#1.21 Managing third part packages\n",
        "#Managing third-party packages in Python is crucial for incorporating external functionalities into your projects. The primary tool for managing packages in Python is pip, which stands for \"Pip Installs Packages.\"\""
      ],
      "metadata": {
        "id": "lEuC_3qWHk97"
      },
      "execution_count": 49,
      "outputs": []
    }
  ]
}
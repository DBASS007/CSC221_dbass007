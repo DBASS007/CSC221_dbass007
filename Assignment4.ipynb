{
  "nbformat": 4,
  "nbformat_minor": 0,
  "metadata": {
    "colab": {
      "provenance": [],
      "authorship_tag": "ABX9TyPZySbN7H0TH2VI13pGAFte",
      "include_colab_link": true
    },
    "kernelspec": {
      "name": "python3",
      "display_name": "Python 3"
    },
    "language_info": {
      "name": "python"
    }
  },
  "cells": [
    {
      "cell_type": "markdown",
      "metadata": {
        "id": "view-in-github",
        "colab_type": "text"
      },
      "source": [
        "<a href=\"https://colab.research.google.com/github/DBASS007/CSC221_dbass007/blob/main/Assignment4.ipynb\" target=\"_parent\"><img src=\"https://colab.research.google.com/assets/colab-badge.svg\" alt=\"Open In Colab\"/></a>"
      ]
    },
    {
      "cell_type": "code",
      "execution_count": null,
      "metadata": {
        "id": "ehmi_xEhcq95"
      },
      "outputs": [],
      "source": [
        "#Read through Crash Ch. 3 and work through it as a Colab like we did in class. You will \"hand in\" a big Colab called Assignment4.ipynb that I can just run from your GitHub.\n",
        "#Try the examples as shown through in the text.\n",
        "#Try the Try It Yourself challenges.\n",
        "#Use your knowledge of list comprehension to solve the following problems:\n",
        "#Print the cubes of all of the integers that are a multiple of 7 between 60 and 85\n",
        "#Compute y=7.4x+51 for the set of values 40, 50, 120, -8, and 6."
      ]
    },
    {
      "cell_type": "code",
      "source": [
        "#3-1 names: store the names of a few of your friends in a list called names. Print each person's name by accessing each element in the list one at a time\n",
        "names = [\"sean\",\"andy\",\"Leo\",\"sophia\",\"juliet\"]\n",
        "print(names)"
      ],
      "metadata": {
        "colab": {
          "base_uri": "https://localhost:8080/"
        },
        "id": "TcvtFW8adDoF",
        "outputId": "eba67d74-eb92-43b2-a638-e1b4d9a86c14"
      },
      "execution_count": null,
      "outputs": [
        {
          "output_type": "stream",
          "name": "stdout",
          "text": [
            "['sean', 'andy', 'Leo', 'sophia', 'juliet']\n"
          ]
        }
      ]
    },
    {
      "cell_type": "code",
      "source": [
        "#3-2 greetings\n",
        "names = [\"sean\",\"andy\",\"Leo\",\"sophia\",\"juliet\"]\n",
        "message1 = f\"My best friend is {names[2]} because he was there for my ups and downs.\\n\"\n",
        "message2 = f\"I hangout with {names[0].title()} and {names[1].title()} all the time in a group.\\n\"\n",
        "message3 = f\"{names[3].title()} and {names[4].title()} are my friends that are girls.\\n\"\n",
        "print(message1)\n",
        "print(message2)\n",
        "print(message3)"
      ],
      "metadata": {
        "colab": {
          "base_uri": "https://localhost:8080/"
        },
        "id": "lLcAhTfBeCTh",
        "outputId": "5a1668a9-3927-4430-f06f-c934d433ac94"
      },
      "execution_count": 13,
      "outputs": [
        {
          "output_type": "stream",
          "name": "stdout",
          "text": [
            "My best friend is Leo because he was there for my ups and downs.\n",
            "\n",
            "I hangout with Sean and Andy all the time in a group.\n",
            "\n",
            "Sophia and Juliet are my friends that are girls.\n",
            "\n"
          ]
        }
      ]
    },
    {
      "cell_type": "code",
      "source": [
        "#3-3. your own list\n",
        "trans = [\"car\", \"scooter\", \"bicycle\", \"walking\"]\n",
        "statement1 = f\"I prefer using a {trans[0]} for transportation.\"\n",
        "statement2 = f\"I use a {trans[1]} and {trans[2]} for fun.\"\n",
        "statement3 = f\"I least enjoy {trans[3]}, but have to do it to get to my classes.\"\n",
        "print(statement1)\n",
        "print(statement2)\n",
        "print(statement3)"
      ],
      "metadata": {
        "colab": {
          "base_uri": "https://localhost:8080/"
        },
        "id": "HE0VBznqhMXu",
        "outputId": "c547935c-4555-4e7c-e8e3-c1cf3a624c93"
      },
      "execution_count": null,
      "outputs": [
        {
          "output_type": "stream",
          "name": "stdout",
          "text": [
            "I prefer using a car for transportation.\n",
            "I use a scooter and bicycle for fun.\n",
            "I least enjoy walking, but have to do it to get to my classes.\n"
          ]
        }
      ]
    },
    {
      "cell_type": "code",
      "source": [
        "#3.4 Guest list: Make a list that includes at least three people you'd like to invite to dinner, Then use your list to print a message to each person, inviting them to dinner.\n",
        "dinner_guest = [\"dad\", \"mom\", \"ethan\", \"luba\"]\n",
        "inv = \"\"\n",
        "for guest in dinner_guest:\n",
        "  inv += f\"dear {guest}, \\nyou are invited to my dinner tomorrow at 6:30pm. Please join me at my house, cannot wait to see you all!\\n\\n\"\n",
        "print(inv)"
      ],
      "metadata": {
        "colab": {
          "base_uri": "https://localhost:8080/"
        },
        "id": "t67CEfPPjDgE",
        "outputId": "f99d8a81-2904-4f64-9e89-f05c06cfad25"
      },
      "execution_count": 14,
      "outputs": [
        {
          "output_type": "stream",
          "name": "stdout",
          "text": [
            "dear dad, \n",
            "you are invited to my dinner tomorrow at 6:30pm. Please join me at my house, cannot wait to see you all!\n",
            "\n",
            "dear mom, \n",
            "you are invited to my dinner tomorrow at 6:30pm. Please join me at my house, cannot wait to see you all!\n",
            "\n",
            "dear ethan, \n",
            "you are invited to my dinner tomorrow at 6:30pm. Please join me at my house, cannot wait to see you all!\n",
            "\n",
            "dear luba, \n",
            "you are invited to my dinner tomorrow at 6:30pm. Please join me at my house, cannot wait to see you all!\n",
            "\n",
            "\n"
          ]
        }
      ]
    },
    {
      "cell_type": "code",
      "source": [
        "#3.5 changing guest list\n",
        "dinner_guest = [\"dad\", \"mom\", \"ethan\", \"luba\"]\n",
        "inv = \"\"\n",
        "for guest in dinner_guest:\n",
        "  inv += f\"dear {guest}, \\nyou are invited to my dinner tomorrow at 6:30pm. Please join me at my house, cannot wait to see you all!\\n\\n\"\n",
        "print(inv)\n",
        "dinner_guest[3] = \"baba\"\n",
        "inv = \"\"\n",
        "for guest in dinner_guest:\n",
        "  inv += f\"dear {guest}, \\nThis is a new invitation. If you didn't get the first one, I wanted to let know that you are invited to my dinner tomorrow at 6:30pm. Please join me at my house, cannot wait to see you all!\\n\\n\"\n",
        "print(inv)"
      ],
      "metadata": {
        "colab": {
          "base_uri": "https://localhost:8080/"
        },
        "id": "7UEOu_xnbQ5c",
        "outputId": "fd6f066d-9703-4891-eac5-cb10b86bf7a2"
      },
      "execution_count": 11,
      "outputs": [
        {
          "output_type": "stream",
          "name": "stdout",
          "text": [
            "dear dad, \n",
            "you are invited to my dinner tomorrow at 6:30pm. Please join me at my house, cannot wait to see you all!\n",
            "\n",
            "dear mom, \n",
            "you are invited to my dinner tomorrow at 6:30pm. Please join me at my house, cannot wait to see you all!\n",
            "\n",
            "dear ethan, \n",
            "you are invited to my dinner tomorrow at 6:30pm. Please join me at my house, cannot wait to see you all!\n",
            "\n",
            "dear luba, \n",
            "you are invited to my dinner tomorrow at 6:30pm. Please join me at my house, cannot wait to see you all!\n",
            "\n",
            "\n",
            "dear dad, \n",
            "This is a new invitation. If you didn't get the first one, I wanted to let know that you are invited to my dinner tomorrow at 6:30pm. Please join me at my house, cannot wait to see you all!\n",
            "\n",
            "dear mom, \n",
            "This is a new invitation. If you didn't get the first one, I wanted to let know that you are invited to my dinner tomorrow at 6:30pm. Please join me at my house, cannot wait to see you all!\n",
            "\n",
            "dear ethan, \n",
            "This is a new invitation. If you didn't get the first one, I wanted to let know that you are invited to my dinner tomorrow at 6:30pm. Please join me at my house, cannot wait to see you all!\n",
            "\n",
            "dear baba, \n",
            "This is a new invitation. If you didn't get the first one, I wanted to let know that you are invited to my dinner tomorrow at 6:30pm. Please join me at my house, cannot wait to see you all!\n",
            "\n",
            "\n"
          ]
        }
      ]
    },
    {
      "cell_type": "code",
      "source": [
        "#3.6 More guests\n",
        "dinner_guest = [\"dad\", \"mom\", \"ethan\", \"luba\"]\n",
        "inv = \"\"\n",
        "dinner_guest.insert(0, \"leo\")\n",
        "dinner_guest.insert(3, \"juliet\")\n",
        "dinner_guest.append(\"baba\")\n",
        "for guest in dinner_guest:\n",
        "  inv += f\"dear {guest}, \\nyou are invited to my dinner tomorrow at 6:30pm. Please join me at my house, cannot wait to see you all!\\n\\n\"\n",
        "print(inv)"
      ],
      "metadata": {
        "colab": {
          "base_uri": "https://localhost:8080/"
        },
        "id": "hjM6zi0-dYLv",
        "outputId": "856f7aa8-026a-41ee-f844-5864b10a3c35"
      },
      "execution_count": 12,
      "outputs": [
        {
          "output_type": "stream",
          "name": "stdout",
          "text": [
            "dear leo, \n",
            "you are invited to my dinner tomorrow at 6:30pm. Please join me at my house, cannot wait to see you all!\n",
            "\n",
            "dear dad, \n",
            "you are invited to my dinner tomorrow at 6:30pm. Please join me at my house, cannot wait to see you all!\n",
            "\n",
            "dear mom, \n",
            "you are invited to my dinner tomorrow at 6:30pm. Please join me at my house, cannot wait to see you all!\n",
            "\n",
            "dear juliet, \n",
            "you are invited to my dinner tomorrow at 6:30pm. Please join me at my house, cannot wait to see you all!\n",
            "\n",
            "dear ethan, \n",
            "you are invited to my dinner tomorrow at 6:30pm. Please join me at my house, cannot wait to see you all!\n",
            "\n",
            "dear luba, \n",
            "you are invited to my dinner tomorrow at 6:30pm. Please join me at my house, cannot wait to see you all!\n",
            "\n",
            "dear baba, \n",
            "you are invited to my dinner tomorrow at 6:30pm. Please join me at my house, cannot wait to see you all!\n",
            "\n",
            "\n"
          ]
        }
      ]
    },
    {
      "cell_type": "code",
      "source": [
        "#3.7 Shrinking Guest List\n",
        "dinner_guest = [\"dad\", \"mom\", \"ethan\", \"luba\"]\n",
        "inv = \"\"\n",
        "for guest in dinner_guest:\n",
        "  inv += f\"dear {guest}, \\nyou are invited to my dinner tomorrow at 6:30pm. Please join me at my house, cannot wait to see you all!\\n\\n\"\n",
        "print(inv)\n",
        "while len(dinner_guest) > 2:\n",
        "  removed_guest = dinner_guest.pop()\n",
        "  print( f\"sorry {removed_guest},\\nI am going to have to uninvite you to dinner.\\n\")\n",
        "\n",
        "print(f\"{dinner_guest[0]} and {dinner_guest[1]},\\nyou are still invited to my dinner.\")\n",
        "\n",
        "del dinner_guest[0]\n",
        "del dinner_guest[0]\n",
        "print(dinner_guest)"
      ],
      "metadata": {
        "colab": {
          "base_uri": "https://localhost:8080/"
        },
        "id": "s3OPyFZwfFYD",
        "outputId": "3cdeeb3b-1455-4d0d-9f79-c00fc0227fc4"
      },
      "execution_count": 30,
      "outputs": [
        {
          "output_type": "stream",
          "name": "stdout",
          "text": [
            "dear dad, \n",
            "you are invited to my dinner tomorrow at 6:30pm. Please join me at my house, cannot wait to see you all!\n",
            "\n",
            "dear mom, \n",
            "you are invited to my dinner tomorrow at 6:30pm. Please join me at my house, cannot wait to see you all!\n",
            "\n",
            "dear ethan, \n",
            "you are invited to my dinner tomorrow at 6:30pm. Please join me at my house, cannot wait to see you all!\n",
            "\n",
            "dear luba, \n",
            "you are invited to my dinner tomorrow at 6:30pm. Please join me at my house, cannot wait to see you all!\n",
            "\n",
            "\n",
            "sorry luba,\n",
            "I am going to have to uninvite you to dinner.\n",
            "\n",
            "sorry ethan,\n",
            "I am going to have to uninvite you to dinner.\n",
            "\n",
            "dad and mom,\n",
            "you are still invited to my dinner.\n",
            "[]\n"
          ]
        }
      ]
    },
    {
      "cell_type": "code",
      "source": [
        "#3.8 seeing the world\n",
        "locations = [\"france\", \"peru\", \"germany\", \"italy\", \"norway\"]\n",
        "print(locations)\n",
        "print(sorted(locations))\n",
        "print(locations)\n",
        "print(sorted(locations, reverse=True))\n",
        "print(locations)\n",
        "locations.reverse()\n",
        "print(locations)\n",
        "locations.sort()\n",
        "print(locations)\n",
        "locations.sort(reverse=True)\n",
        "print(locations)"
      ],
      "metadata": {
        "colab": {
          "base_uri": "https://localhost:8080/"
        },
        "id": "_ToBV_jWlA-N",
        "outputId": "4a18f982-35d7-43fd-f23f-b16680eec878"
      },
      "execution_count": 2,
      "outputs": [
        {
          "output_type": "stream",
          "name": "stdout",
          "text": [
            "['france', 'peru', 'germany', 'italy', 'norway']\n",
            "['france', 'germany', 'italy', 'norway', 'peru']\n",
            "['france', 'peru', 'germany', 'italy', 'norway']\n",
            "['peru', 'norway', 'italy', 'germany', 'france']\n",
            "['france', 'peru', 'germany', 'italy', 'norway']\n",
            "['norway', 'italy', 'germany', 'peru', 'france']\n",
            "['france', 'germany', 'italy', 'norway', 'peru']\n",
            "['peru', 'norway', 'italy', 'germany', 'france']\n"
          ]
        }
      ]
    },
    {
      "cell_type": "code",
      "source": [
        "#3.9 dinner guests\n",
        "dinner_guest = [\"dad\", \"mom\", \"ethan\", \"luba\"]\n",
        "inv = \"\"\n",
        "for guest in dinner_guest:\n",
        "  inv += f\"dear {guest}, \\nyou are invited to my dinner tomorrow at 6:30pm. Please join me at my house, cannot wait to see you all!\\n\\n\"\n",
        "print(inv)\n",
        "len(dinner_guest)"
      ],
      "metadata": {
        "colab": {
          "base_uri": "https://localhost:8080/"
        },
        "id": "3xovSaVxixF0",
        "outputId": "4ea7267a-5954-435a-bb88-372509828f3a"
      },
      "execution_count": 3,
      "outputs": [
        {
          "output_type": "stream",
          "name": "stdout",
          "text": [
            "dear dad, \n",
            "you are invited to my dinner tomorrow at 6:30pm. Please join me at my house, cannot wait to see you all!\n",
            "\n",
            "dear mom, \n",
            "you are invited to my dinner tomorrow at 6:30pm. Please join me at my house, cannot wait to see you all!\n",
            "\n",
            "dear ethan, \n",
            "you are invited to my dinner tomorrow at 6:30pm. Please join me at my house, cannot wait to see you all!\n",
            "\n",
            "dear luba, \n",
            "you are invited to my dinner tomorrow at 6:30pm. Please join me at my house, cannot wait to see you all!\n",
            "\n",
            "\n"
          ]
        },
        {
          "output_type": "execute_result",
          "data": {
            "text/plain": [
              "4"
            ]
          },
          "metadata": {},
          "execution_count": 3
        }
      ]
    },
    {
      "cell_type": "code",
      "source": [
        "#3-10 every function\n",
        "languages = []\n",
        "languages.append(\"Spanish\")\n",
        "languages.append(\"Mandarin\")\n",
        "languages.insert(0, \"French\")\n",
        "languages.insert(1, \"German\")\n",
        "print(languages)\n",
        "message = \"The \" + languages[0] + \" and \" + languages[3] + \" are two widely spoken languages.\"\n",
        "print(message)\n",
        "print(sorted(languages))\n",
        "not_widely_spoken = languages.pop(2)\n",
        "message = \"The \" + not_widely_spoken + \" is spoken in a specific region.\"\n",
        "print(message)\n",
        "languages.sort()\n",
        "print(languages)\n",
        "languages.remove('German')\n",
        "print(languages)"
      ],
      "metadata": {
        "colab": {
          "base_uri": "https://localhost:8080/"
        },
        "id": "u-SWeMWTjVvV",
        "outputId": "c7d62649-bb8b-4912-b884-2f80728c3881"
      },
      "execution_count": 4,
      "outputs": [
        {
          "output_type": "stream",
          "name": "stdout",
          "text": [
            "['French', 'German', 'Spanish', 'Mandarin']\n",
            "The French and Mandarin are two widely spoken languages.\n",
            "['French', 'German', 'Mandarin', 'Spanish']\n",
            "The Spanish is spoken in a specific region.\n",
            "['French', 'German', 'Mandarin']\n",
            "['French', 'Mandarin']\n"
          ]
        }
      ]
    },
    {
      "cell_type": "code",
      "source": [
        "#3-11 index error\n",
        "dinner_guest = [\"dad\", \"mom\", \"ethan\", \"luba\"]\n",
        "inv = \"\"\n",
        "for guest in dinner_guest:   #the next line needs to be indented because there is a colon. This was noted and fixed!\n",
        "  inv += f\"dear {guest}, \\nyou are invited to my dinner tomorrow at 6:30pm. Please join me at my house, cannot wait to see you all!\\n\\n\"\n"
      ],
      "metadata": {
        "id": "TB9fhwvZkiE3"
      },
      "execution_count": null,
      "outputs": []
    },
    {
      "cell_type": "code",
      "source": [
        "#Print the cubes of all of the integers that are a multiple of 7 between 60 and 85\n",
        "for num in range(60, 86):\n",
        "    if num % 7 == 0:\n",
        "        cube = num ** 3\n",
        "        print(f\"The cube of {num} is {cube}\")"
      ],
      "metadata": {
        "colab": {
          "base_uri": "https://localhost:8080/"
        },
        "id": "ZV47nYpElL8J",
        "outputId": "0cccc827-1754-4742-92dc-0d0311054be3"
      },
      "execution_count": 5,
      "outputs": [
        {
          "output_type": "stream",
          "name": "stdout",
          "text": [
            "The cube of 63 is 250047\n",
            "The cube of 70 is 343000\n",
            "The cube of 77 is 456533\n",
            "The cube of 84 is 592704\n"
          ]
        }
      ]
    },
    {
      "cell_type": "code",
      "source": [
        "#Compute y = 7.4x+51 for the set of values 40, 50, 120, -8, and 6.\n",
        "x_values = [40, 50, 120, -8, 6]\n",
        "for x in x_values:\n",
        "    y = 7.4 * x + 51\n",
        "    print(f\"For x = {x}, y = {y}\")"
      ],
      "metadata": {
        "colab": {
          "base_uri": "https://localhost:8080/"
        },
        "id": "sREgv4vWlhGn",
        "outputId": "56a68bd0-680a-40a9-8b45-03f86b2edb04"
      },
      "execution_count": 7,
      "outputs": [
        {
          "output_type": "stream",
          "name": "stdout",
          "text": [
            "For x = 40, y = 347.0\n",
            "For x = 50, y = 421.0\n",
            "For x = 120, y = 939.0\n",
            "For x = -8, y = -8.200000000000003\n",
            "For x = 6, y = 95.4\n"
          ]
        }
      ]
    }
  ]
}
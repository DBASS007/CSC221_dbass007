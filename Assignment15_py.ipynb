{
  "nbformat": 4,
  "nbformat_minor": 0,
  "metadata": {
    "colab": {
      "provenance": [],
      "authorship_tag": "ABX9TyOtLiCcaIL5508AK9sjGhz6",
      "include_colab_link": true
    },
    "kernelspec": {
      "name": "python3",
      "display_name": "Python 3"
    },
    "language_info": {
      "name": "python"
    }
  },
  "cells": [
    {
      "cell_type": "markdown",
      "metadata": {
        "id": "view-in-github",
        "colab_type": "text"
      },
      "source": [
        "<a href=\"https://colab.research.google.com/github/DBASS007/CSC221_dbass007/blob/main/Assignment15_py.ipynb\" target=\"_parent\"><img src=\"https://colab.research.google.com/assets/colab-badge.svg\" alt=\"Open In Colab\"/></a>"
      ]
    },
    {
      "cell_type": "code",
      "execution_count": 10,
      "metadata": {
        "id": "--6_PTw3cq5m"
      },
      "outputs": [],
      "source": [
        "#DYLAN BASS\n",
        "#11-1\n",
        "\"\"\"A collection of functions for working with cities.\"\"\"\n",
        "\n",
        "def format_city_country(city, country, year_founded=None):\n",
        "    \"\"\"Return a formatted string like 'Chicago, United States (Founded: 1837)'.\"\"\"\n",
        "    formatted_string = f\"{city.title()}, {country.title()}\"\n",
        "\n",
        "    if year_founded:\n",
        "        formatted_string += f\" (Founded: {year_founded})\"\n",
        "\n",
        "    return formatted_string\n"
      ]
    },
    {
      "cell_type": "code",
      "source": [
        "import unittest\n",
        "\n",
        "def format_city_country(city, country, year_founded=None):\n",
        "    \"\"\"Return a formatted string like 'Chicago, United States (Founded: 1837)'.\"\"\"\n",
        "    formatted_string = f\"{city.title()}, {country.title()}\"\n",
        "\n",
        "    if year_founded:\n",
        "        formatted_string += f\" (Founded: {year_founded})\"\n",
        "\n",
        "    return formatted_string\n",
        "\n",
        "class CitiesTestCase(unittest.TestCase):\n",
        "    \"\"\"Tests for 'city_functions.py'.\"\"\"\n",
        "\n",
        "    def test_format_city_country(self):\n",
        "        \"\"\"Does a simple city and country pair work?\"\"\"\n",
        "        result = format_city_country('santiago', 'chile')\n",
        "        self.assertEqual(result, 'Santiago, Chile')\n",
        "\n",
        "    def test_format_city_country_with_year(self):\n",
        "        \"\"\"Does the formatted string include the year founded?\"\"\"\n",
        "        result = format_city_country('santiago', 'chile', 1541)\n",
        "        self.assertEqual(result, 'Santiago, Chile (Founded: 1541)')\n",
        "\n",
        "    def test_format_chicago_illinois(self):\n",
        "        \"\"\"Does the formatted string work for Chicago, United States?\"\"\"\n",
        "        result = format_city_country('chicago', 'illinois')\n",
        "        self.assertEqual(result, 'Chicago, Illinois')\n",
        "\n",
        "unittest.main(argv=[''], exit=False)\n"
      ],
      "metadata": {
        "colab": {
          "base_uri": "https://localhost:8080/"
        },
        "id": "noluRXbueEAl",
        "outputId": "81f64c85-c894-41de-8fc8-f68718e7005e"
      },
      "execution_count": 9,
      "outputs": [
        {
          "output_type": "stream",
          "name": "stderr",
          "text": [
            "...\n",
            "----------------------------------------------------------------------\n",
            "Ran 3 tests in 0.014s\n",
            "\n",
            "OK\n"
          ]
        },
        {
          "output_type": "execute_result",
          "data": {
            "text/plain": [
              "<unittest.main.TestProgram at 0x7e12b42a1c90>"
            ]
          },
          "metadata": {},
          "execution_count": 9
        }
      ]
    },
    {
      "cell_type": "code",
      "source": [
        "# 11.2\n",
        "import unittest\n",
        "\n",
        "# Define city_functions.py\n",
        "def city_country(city, country, population=None):\n",
        "    \"\"\"Return a formatted string representing a city-country pair with optional population.\"\"\"\n",
        "    output_string = f\"{city.title()}, {country.title()}\"\n",
        "\n",
        "    if population is not None:\n",
        "        output_string += f' - population {population}'\n",
        "\n",
        "    return output_string\n",
        "\n",
        "# Define test_cities.py\n",
        "class CitiesTestCase(unittest.TestCase):\n",
        "    \"\"\"Tests for 'city_functions.py'.\"\"\"\n",
        "\n",
        "    def test_city_country(self):\n",
        "        \"\"\"Does a simple city and country pair work?\"\"\"\n",
        "        chicago_illinois = city_country('chicago', 'illinois')\n",
        "        self.assertEqual(chicago_illinois, 'Chicago, Illinois')\n",
        "\n",
        "    def test_city_country_population(self):\n",
        "        \"\"\"Can I include a population argument?\"\"\"\n",
        "        chicago_illinois_population = city_country('chicago', 'illinois', population=2700000)\n",
        "        self.assertEqual(chicago_illinois_population, 'Chicago, Illinois - population 2700000')\n",
        "\n",
        "# Run the tests\n",
        "unittest.main(argv=[''], exit=False)\n"
      ],
      "metadata": {
        "colab": {
          "base_uri": "https://localhost:8080/"
        },
        "id": "p6165MzI20TS",
        "outputId": "90b59dfc-49e4-4b0f-b2fd-df253b22c4ae"
      },
      "execution_count": 14,
      "outputs": [
        {
          "output_type": "stream",
          "name": "stderr",
          "text": [
            "..\n",
            "----------------------------------------------------------------------\n",
            "Ran 2 tests in 0.007s\n",
            "\n",
            "OK\n"
          ]
        },
        {
          "output_type": "execute_result",
          "data": {
            "text/plain": [
              "<unittest.main.TestProgram at 0x7e12b42a1a80>"
            ]
          },
          "metadata": {},
          "execution_count": 14
        }
      ]
    }
  ]
}
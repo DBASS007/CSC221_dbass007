{
  "nbformat": 4,
  "nbformat_minor": 0,
  "metadata": {
    "colab": {
      "provenance": [],
      "authorship_tag": "ABX9TyN2+ZaeFLNyidvwfeKDmF4W",
      "include_colab_link": true
    },
    "kernelspec": {
      "name": "python3",
      "display_name": "Python 3"
    },
    "language_info": {
      "name": "python"
    }
  },
  "cells": [
    {
      "cell_type": "markdown",
      "metadata": {
        "id": "view-in-github",
        "colab_type": "text"
      },
      "source": [
        "<a href=\"https://colab.research.google.com/github/DBASS007/CSC221_dbass007/blob/main/23_25Assignment_py.ipynb\" target=\"_parent\"><img src=\"https://colab.research.google.com/assets/colab-badge.svg\" alt=\"Open In Colab\"/></a>"
      ]
    },
    {
      "cell_type": "code",
      "execution_count": 1,
      "metadata": {
        "colab": {
          "base_uri": "https://localhost:8080/"
        },
        "id": "T-POiWCejVL4",
        "outputId": "4bfa1944-a54d-4fc9-f98a-ed91df854645"
      },
      "outputs": [
        {
          "output_type": "stream",
          "name": "stdout",
          "text": [
            "1000\n"
          ]
        }
      ],
      "source": [
        "#Write and test a function that has only positional arguments: def func(a, b)\n",
        "def func(a, b):\n",
        "    return a + b\n",
        "result = func(200, 800)\n",
        "print(result)"
      ]
    },
    {
      "cell_type": "code",
      "source": [
        "#Write and test a function that has variadic arguments: def func(*s)\n",
        "def func(*s):\n",
        "    return sum(s)\n",
        "result = func(100, 200, 300, 400, 500)\n",
        "print(result)"
      ],
      "metadata": {
        "colab": {
          "base_uri": "https://localhost:8080/"
        },
        "id": "rpZbgNGwj2NU",
        "outputId": "a2af24c8-37ea-46f5-f6b2-1720c35197b8"
      },
      "execution_count": 2,
      "outputs": [
        {
          "output_type": "stream",
          "name": "stdout",
          "text": [
            "1500\n"
          ]
        }
      ]
    },
    {
      "cell_type": "code",
      "source": [
        "#Write and test a function that uses only keyword arguments: def func(**kwargs)\n",
        "def func(**kwargs):\n",
        "    return kwargs.get('x', 0) + kwargs.get('y', 0)\n",
        "result = func(x=10, y=20)\n",
        "print(result)"
      ],
      "metadata": {
        "colab": {
          "base_uri": "https://localhost:8080/"
        },
        "id": "5HXojS5Zj5rZ",
        "outputId": "1bd99cfe-c7e5-4e6e-9fdd-8ef30c75cd9f"
      },
      "execution_count": 3,
      "outputs": [
        {
          "output_type": "stream",
          "name": "stdout",
          "text": [
            "30\n"
          ]
        }
      ]
    },
    {
      "cell_type": "code",
      "source": [
        "#Write and test a function that accepts any inputs: def func(*args, **kwargs). The function should add or subtract all the *args based on a keyword operator='+' or operator='-'\n",
        "def func(operator='+', *args, **kwargs):\n",
        "    if operator == '+':\n",
        "        return sum(args)\n",
        "    elif operator == '-':\n",
        "        return args[0] - sum(args[1:])\n",
        "    else:\n",
        "        raise ValueError(\"Incorrect typed operator, use '+' or '-'\")\n",
        "result_add = func('+', 100, 200, 300)\n",
        "result_subtract = func('-', 1000, 200, 300)\n",
        "\n",
        "print(result_add)\n",
        "print(result_subtract)\n"
      ],
      "metadata": {
        "colab": {
          "base_uri": "https://localhost:8080/"
        },
        "id": "L5xIxgbhj8Ti",
        "outputId": "b567d48a-5a5a-45f3-a75b-811564e712da"
      },
      "execution_count": 4,
      "outputs": [
        {
          "output_type": "stream",
          "name": "stdout",
          "text": [
            "600\n",
            "500\n"
          ]
        }
      ]
    },
    {
      "cell_type": "code",
      "source": [
        "#Create a global variable and then create a function that uses and changes its value.\n",
        "\n",
        "global_variable = 1000\n",
        "\n",
        "def modify_global_variable(value):\n",
        "    global global_variable\n",
        "    global_variable += value\n",
        "\n",
        "modify_global_variable(500)\n",
        "print(global_variable)\n"
      ],
      "metadata": {
        "colab": {
          "base_uri": "https://localhost:8080/"
        },
        "id": "th1H6v-6kBTx",
        "outputId": "c46c79d0-9195-436a-c434-c760aa9c4097"
      },
      "execution_count": 5,
      "outputs": [
        {
          "output_type": "stream",
          "name": "stdout",
          "text": [
            "1500\n"
          ]
        }
      ]
    },
    {
      "cell_type": "code",
      "source": [
        "#Create a lambda function that allows the use of sorted(...) such that words are sorted by the number of vowels they contain.\n",
        "sports_terms = [\"football\", \"basketball\", \"soccer\", \"tennis\", \"swimming\", \"gymnastics\", \"volleyball\"]\n",
        "\n",
        "count_vowels = lambda word: sum(1 for char in word if char.lower() in \"aeiou\")\n",
        "\n",
        "sorted_sports_terms = sorted(sports_terms, key=count_vowels)\n",
        "\n",
        "print(sorted_sports_terms)\n"
      ],
      "metadata": {
        "colab": {
          "base_uri": "https://localhost:8080/"
        },
        "id": "6udO43GMkDzs",
        "outputId": "e8f1045e-21e3-40db-f8d9-b4d8c794f9f1"
      },
      "execution_count": 6,
      "outputs": [
        {
          "output_type": "stream",
          "name": "stdout",
          "text": [
            "['soccer', 'tennis', 'swimming', 'gymnastics', 'football', 'basketball', 'volleyball']\n"
          ]
        }
      ]
    },
    {
      "cell_type": "code",
      "source": [
        "#Write a decorator called logger() that appends the name of the function, all of its arguments, and its return value to a file called log.txt. Use some of your functions above to demonstrate how @logger works.\n",
        "def logger(func):\n",
        "    def wrapper(*args, **kwargs):\n",
        "        result = func(*args, **kwargs)\n",
        "        with open(\"log.txt\", \"a\") as log_file:\n",
        "            log_file.write(f\"{func.__name__}({args}, {kwargs}) -> {result}\\n\")\n",
        "        return result\n",
        "    return wrapper\n",
        "\n",
        "@logger\n",
        "def modify_global_variable(value):\n",
        "    global global_variable\n",
        "    global_variable += value\n",
        "    return global_variable\n",
        "\n",
        "@logger\n",
        "def sort_sports_terms_by_vowels(terms):\n",
        "    count_vowels = lambda word: sum(1 for char in word if char.lower() in \"aeiou\")\n",
        "    return sorted(terms, key=count_vowels)\n",
        "\n",
        "modify_global_variable(500)\n",
        "sort_sports_terms_by_vowels([\"football\", \"basketball\", \"soccer\", \"tennis\"])\n",
        "\n",
        "with open(\"log.txt\", \"r\") as log_file:\n",
        "    print(log_file.read())\n"
      ],
      "metadata": {
        "colab": {
          "base_uri": "https://localhost:8080/"
        },
        "id": "OqS4B2MpkGTL",
        "outputId": "6c1bbcf4-ec86-4604-879a-ce527f7c8c24"
      },
      "execution_count": 7,
      "outputs": [
        {
          "output_type": "stream",
          "name": "stdout",
          "text": [
            "modify_global_variable((500,), {}) -> 2000\n",
            "sort_sports_terms_by_vowels((['football', 'basketball', 'soccer', 'tennis'],), {}) -> ['soccer', 'tennis', 'football', 'basketball']\n",
            "\n"
          ]
        }
      ]
    },
    {
      "cell_type": "code",
      "source": [
        "#Show an example of how Python can be used to perform map, filter, and reduce operations.\n",
        "from functools import reduce\n",
        "\n",
        "numbers = [3, 6, 9, 12, 15, 18, 21, 24, 27, 30]\n",
        "\n",
        "squared_numbers = list(map(lambda x: x**2, numbers))\n",
        "print(\"Mapped (squared) numbers:\", squared_numbers)\n",
        "\n",
        "\n",
        "multiples_of_three = list(filter(lambda x: x % 3 == 0, numbers))\n",
        "print(\"Filtered (multiples of three) numbers:\", multiples_of_three)\n",
        "\n",
        "product_of_numbers = reduce(lambda x, y: x * y, numbers)\n",
        "print(\"Reduced (product) result:\", product_of_numbers)\n"
      ],
      "metadata": {
        "colab": {
          "base_uri": "https://localhost:8080/"
        },
        "id": "k9hkUk2vkIxn",
        "outputId": "79dd2bec-548b-4007-bab9-98c78a8d2e13"
      },
      "execution_count": 8,
      "outputs": [
        {
          "output_type": "stream",
          "name": "stdout",
          "text": [
            "Mapped (squared) numbers: [9, 36, 81, 144, 225, 324, 441, 576, 729, 900]\n",
            "Filtered (multiples of three) numbers: [3, 6, 9, 12, 15, 18, 21, 24, 27, 30]\n",
            "Reduced (product) result: 214277011200\n"
          ]
        }
      ]
    },
    {
      "cell_type": "code",
      "source": [
        "#Show how you can use exec(...) to make a simple calculator that runs in a loop and allows me to type in ant Python expression (like '5 + 3 - 8 / 12') and print the result by merely passing the expression to exec(...).\n",
        "while True:\n",
        "    expression = input(\"Input a Python expression (or 'exit' to end): \")\n",
        "\n",
        "    if expression.lower() == 'exit':\n",
        "        print(\"Calculator Ended.\")\n",
        "        break\n",
        "\n",
        "    try:\n",
        "        result = eval(expression)\n",
        "        print(\"Result:\", result)\n",
        "    except Exception as e:\n",
        "        print(\"Error:\", e)\n"
      ],
      "metadata": {
        "colab": {
          "base_uri": "https://localhost:8080/"
        },
        "id": "fvrqfv7_kLVU",
        "outputId": "ab93ef29-5328-42d5-9344-6618c5d36650"
      },
      "execution_count": 9,
      "outputs": [
        {
          "output_type": "stream",
          "name": "stdout",
          "text": [
            "Input a Python expression (or 'exit' to end): m\n",
            "Error: name 'm' is not defined\n",
            "Input a Python expression (or 'exit' to end): done\n",
            "Error: name 'done' is not defined\n",
            "Input a Python expression (or 'exit' to end): exit\n",
            "Calculator Ended.\n"
          ]
        }
      ]
    }
  ]
}
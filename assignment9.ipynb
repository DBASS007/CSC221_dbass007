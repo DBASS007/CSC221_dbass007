{
  "nbformat": 4,
  "nbformat_minor": 0,
  "metadata": {
    "colab": {
      "provenance": [],
      "authorship_tag": "ABX9TyN0M0tAEnJis5WUu8VEU8FL",
      "include_colab_link": true
    },
    "kernelspec": {
      "name": "python3",
      "display_name": "Python 3"
    },
    "language_info": {
      "name": "python"
    }
  },
  "cells": [
    {
      "cell_type": "markdown",
      "metadata": {
        "id": "view-in-github",
        "colab_type": "text"
      },
      "source": [
        "<a href=\"https://colab.research.google.com/github/DBASS007/CSC221_dbass007/blob/main/assignment9.ipynb\" target=\"_parent\"><img src=\"https://colab.research.google.com/assets/colab-badge.svg\" alt=\"Open In Colab\"/></a>"
      ]
    },
    {
      "cell_type": "code",
      "execution_count": null,
      "metadata": {
        "id": "GLGC-w2C9lOj"
      },
      "outputs": [],
      "source": [
        "#Do TIY 8-2, 8-3, 8-4, 8-14"
      ]
    },
    {
      "cell_type": "code",
      "source": [
        "#8-2\n",
        "def preferred_novel(book_title):\n",
        "    print(f\"{book_title} holds a special place in my heart.\")\n",
        "\n",
        "preferred_novel('The Concrete Wilderness')"
      ],
      "metadata": {
        "colab": {
          "base_uri": "https://localhost:8080/"
        },
        "id": "lECt7akL9yO4",
        "outputId": "63d6837f-379c-4ba7-8917-682fa88fcfd5"
      },
      "execution_count": 1,
      "outputs": [
        {
          "output_type": "stream",
          "name": "stdout",
          "text": [
            "The Concrete Wilderness holds a special place in my heart.\n"
          ]
        }
      ]
    },
    {
      "cell_type": "code",
      "source": [
        "#8-3 T-shirt\n",
        "def make_shirt(size, message):\n",
        "    \"\"\"Summarize the shirt that's going to be made.\"\"\"\n",
        "    print(f\"\\nI'm going to make a {size} t-shirt.\")\n",
        "    print(f'It will say, \"{message}\"')\n",
        "\n",
        "make_shirt('large', 'I admire Python!')\n",
        "make_shirt(message=\"Clarity is important.\", size='medium')\n",
        "\n"
      ],
      "metadata": {
        "colab": {
          "base_uri": "https://localhost:8080/"
        },
        "id": "a3PD8koI9z7V",
        "outputId": "56bf9fcb-4cd7-402e-988b-34dff8ccb372"
      },
      "execution_count": 5,
      "outputs": [
        {
          "output_type": "stream",
          "name": "stdout",
          "text": [
            "\n",
            "I'm going to make a large t-shirt.\n",
            "It will say, \"I admire Python!\"\n",
            "\n",
            "I'm going to make a medium t-shirt.\n",
            "It will say, \"Clarity is important.\"\n"
          ]
        }
      ]
    },
    {
      "cell_type": "code",
      "source": [
        "#8-4 Large shirts\n",
        "def craft_shirt(size='extra-large', message='I adore Python!'):\n",
        "    \"\"\"Provide a summary of the upcoming shirt.\"\"\"\n",
        "    print(f\"\\nI'm about to create a {size} tee.\")\n",
        "    print(f'It will say, \"{message}\"')\n",
        "\n",
        "craft_shirt()\n",
        "craft_shirt(size='medium')\n",
        "craft_shirt('small', 'you are special')\n"
      ],
      "metadata": {
        "colab": {
          "base_uri": "https://localhost:8080/"
        },
        "id": "gedxSKGy91p0",
        "outputId": "ee09016d-d803-46ac-f8a6-0c0e50d2fa35"
      },
      "execution_count": 8,
      "outputs": [
        {
          "output_type": "stream",
          "name": "stdout",
          "text": [
            "\n",
            "I'm about to create a extra-large tee.\n",
            "It will say, \"I adore Python!\"\n",
            "\n",
            "I'm about to create a medium tee.\n",
            "It will say, \"I adore Python!\"\n",
            "\n",
            "I'm about to create a small tee.\n",
            "It will say, \"you are special\"\n"
          ]
        }
      ]
    },
    {
      "cell_type": "code",
      "source": [
        "#8-14\n",
        "def create_sandwich(*items):\n",
        "\n",
        "    print(\"\\nYou have created a sandwich with the following ingredients:\")\n",
        "    for item in items:\n",
        "        print(f\"- {item}\")\n",
        "\n",
        "create_sandwich('Roast Beef', 'Cheddar Cheese', 'Spinach', 'Onion')\n",
        "\n",
        "create_sandwich('Turkey', 'Swiss Cheese', 'Bacon', 'Guacamole', 'Jalapenos')\n",
        "\n",
        "create_sandwich('Hummus', 'Tomato', 'Cucumber', 'Red Bell Pepper')\n"
      ],
      "metadata": {
        "colab": {
          "base_uri": "https://localhost:8080/"
        },
        "id": "eaXZx6ba93Me",
        "outputId": "524fff91-7feb-4976-f826-691b54037232"
      },
      "execution_count": 9,
      "outputs": [
        {
          "output_type": "stream",
          "name": "stdout",
          "text": [
            "\n",
            "You have created a sandwich with the following ingredients:\n",
            "- Roast Beef\n",
            "- Cheddar Cheese\n",
            "- Spinach\n",
            "- Onion\n",
            "\n",
            "You have created a sandwich with the following ingredients:\n",
            "- Turkey\n",
            "- Swiss Cheese\n",
            "- Bacon\n",
            "- Guacamole\n",
            "- Jalapenos\n",
            "\n",
            "You have created a sandwich with the following ingredients:\n",
            "- Hummus\n",
            "- Tomato\n",
            "- Cucumber\n",
            "- Red Bell Pepper\n"
          ]
        }
      ]
    },
    {
      "cell_type": "code",
      "source": [
        "#Write a function that takes two numbers and returns their sum and a list containing both numbers in sorted order\n",
        "#The second number defaults to pi if it is not provided.\n",
        "import math\n",
        "\n",
        "def calculate_sum_and_sort(first_num, second_num=math.pi):\n",
        "\n",
        "    num_sum = first_num + second_num\n",
        "    sorted_numbers = sorted([first_num, second_num])\n",
        "    return num_sum, sorted_numbers\n",
        "\n",
        "# Example Usage\n",
        "result1, sorted_numbers1 = calculate_sum_and_sort(5, 3)\n",
        "result2, sorted_numbers2 = calculate_sum_and_sort(7)\n",
        "\n",
        "print(f\"Result 1: Sum = {result1}, Sorted Numbers = {sorted_numbers1}\")\n",
        "print(f\"Result 2: Sum = {result2}, Sorted Numbers = {sorted_numbers2}\")\n"
      ],
      "metadata": {
        "colab": {
          "base_uri": "https://localhost:8080/"
        },
        "id": "ttIa5Jtk95J1",
        "outputId": "3c46e6d5-eef2-4ae9-9b05-e260d50958ae"
      },
      "execution_count": 10,
      "outputs": [
        {
          "output_type": "stream",
          "name": "stdout",
          "text": [
            "Result 1: Sum = 8, Sorted Numbers = [3, 5]\n",
            "Result 2: Sum = 10.141592653589793, Sorted Numbers = [3.141592653589793, 7]\n"
          ]
        }
      ]
    },
    {
      "cell_type": "code",
      "source": [
        "#Write enough test cases for your function to convince yourself that it is working.\n",
        "import math\n",
        "\n",
        "def calculate_sum_and_sort(first_num, second_num=math.pi):\n",
        "    \"\"\"Calculate the sum and return a sorted list of the numbers.\"\"\"\n",
        "    num_sum = first_num + second_num\n",
        "    sorted_numbers = sorted([first_num, second_num])\n",
        "    return num_sum, sorted_numbers\n",
        "\n",
        "result1, sorted_numbers1 = calculate_sum_and_sort(6, 3.5)\n",
        "result2, sorted_numbers2 = calculate_sum_and_sort(2.718, 3.142)\n",
        "result3, sorted_numbers3 = calculate_sum_and_sort(-7, 7)\n",
        "result4, sorted_numbers4 = calculate_sum_and_sort(8.8, 5.5)\n",
        "result5, sorted_numbers5 = calculate_sum_and_sort(99, 22)\n",
        "result6, sorted_numbers6 = calculate_sum_and_sort(4, 0)\n",
        "\n",
        "print(f\"Result 1: Sum = {result1}, Sorted Numbers = {sorted_numbers1}\")\n",
        "print(f\"Result 2: Sum = {result2}, Sorted Numbers = {sorted_numbers2}\")\n",
        "print(f\"Result 3: Sum = {result3}, Sorted Numbers = {sorted_numbers3}\")\n",
        "print(f\"Result 4: Sum = {result4}, Sorted Numbers = {sorted_numbers4}\")\n",
        "print(f\"Result 5: Sum = {result5}, Sorted Numbers = {sorted_numbers5}\")\n",
        "print(f\"Result 6: Sum = {result6}, Sorted Numbers = {sorted_numbers6}\")\n"
      ],
      "metadata": {
        "colab": {
          "base_uri": "https://localhost:8080/"
        },
        "id": "VaNItZB998IM",
        "outputId": "616e606f-ed9e-4aee-fe96-2ff95df1e074"
      },
      "execution_count": 11,
      "outputs": [
        {
          "output_type": "stream",
          "name": "stdout",
          "text": [
            "Result 1: Sum = 9.5, Sorted Numbers = [3.5, 6]\n",
            "Result 2: Sum = 5.859999999999999, Sorted Numbers = [2.718, 3.142]\n",
            "Result 3: Sum = 0, Sorted Numbers = [-7, 7]\n",
            "Result 4: Sum = 14.3, Sorted Numbers = [5.5, 8.8]\n",
            "Result 5: Sum = 121, Sorted Numbers = [22, 99]\n",
            "Result 6: Sum = 4, Sorted Numbers = [0, 4]\n"
          ]
        }
      ]
    },
    {
      "cell_type": "code",
      "source": [
        "#Modify your function above to print out the parameters and results of the function, but only if an optional parameter called 'verbose' is True.\n",
        "import math\n",
        "\n",
        "def calculate_sum_and_sort(first_num, second_num=math.pi, verbose=False):\n",
        "    \"\"\"Calculate the sum and return a sorted list of the numbers.\"\"\"\n",
        "    num_sum = first_num + second_num\n",
        "    sorted_numbers = sorted([first_num, second_num])\n",
        "\n",
        "    if verbose:\n",
        "        print(f\"Parameters: first_num={first_num}, second_num={second_num}\")\n",
        "        print(f\"Result: Sum = {num_sum}, Sorted Numbers = {sorted_numbers}\")\n",
        "\n",
        "    return num_sum, sorted_numbers\n",
        "\n",
        "result1, sorted_numbers1 = calculate_sum_and_sort(8, 2.5, verbose=True)\n",
        "result2, sorted_numbers2 = calculate_sum_and_sort(3.14, 2.71, verbose=True)\n",
        "result3, sorted_numbers3 = calculate_sum_and_sort(-3, 10, verbose=True)\n",
        "result4, sorted_numbers4 = calculate_sum_and_sort(1.618, 0.618, verbose=True)\n",
        "result5, sorted_numbers5 = calculate_sum_and_sort(123, 321, verbose=True)\n",
        "result6, sorted_numbers6 = calculate_sum_and_sort(5, 1, verbose=True)\n"
      ],
      "metadata": {
        "colab": {
          "base_uri": "https://localhost:8080/"
        },
        "id": "tAYqXagI-CuH",
        "outputId": "16ffc6b6-2e5c-40cd-ebdb-5c39dc4ab2e6"
      },
      "execution_count": 12,
      "outputs": [
        {
          "output_type": "stream",
          "name": "stdout",
          "text": [
            "Parameters: first_num=8, second_num=2.5\n",
            "Result: Sum = 10.5, Sorted Numbers = [2.5, 8]\n",
            "Parameters: first_num=3.14, second_num=2.71\n",
            "Result: Sum = 5.85, Sorted Numbers = [2.71, 3.14]\n",
            "Parameters: first_num=-3, second_num=10\n",
            "Result: Sum = 7, Sorted Numbers = [-3, 10]\n",
            "Parameters: first_num=1.618, second_num=0.618\n",
            "Result: Sum = 2.236, Sorted Numbers = [0.618, 1.618]\n",
            "Parameters: first_num=123, second_num=321\n",
            "Result: Sum = 444, Sorted Numbers = [123, 321]\n",
            "Parameters: first_num=5, second_num=1\n",
            "Result: Sum = 6, Sorted Numbers = [1, 5]\n"
          ]
        }
      ]
    }
  ]
}
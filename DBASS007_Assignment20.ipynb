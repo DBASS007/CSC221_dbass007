{
  "nbformat": 4,
  "nbformat_minor": 0,
  "metadata": {
    "colab": {
      "provenance": [],
      "include_colab_link": true
    },
    "kernelspec": {
      "name": "python3",
      "display_name": "Python 3"
    },
    "language_info": {
      "name": "python"
    }
  },
  "cells": [
    {
      "cell_type": "markdown",
      "metadata": {
        "id": "view-in-github",
        "colab_type": "text"
      },
      "source": [
        "<a href=\"https://colab.research.google.com/github/DBASS007/CSC221_dbass007/blob/main/DBASS007_Assignment20.ipynb\" target=\"_parent\"><img src=\"https://colab.research.google.com/assets/colab-badge.svg\" alt=\"Open In Colab\"/></a>"
      ]
    },
    {
      "cell_type": "markdown",
      "source": [
        "# Assignment 20\n",
        "## CSC 221\n",
        "- PLEASE INSERT YOUR NAME HERE!\n",
        "\n",
        "### Instructions:\n",
        "Fill in each code cell below the question. We are following along in Chapter 4 of Python Distilled."
      ],
      "metadata": {
        "id": "IAOUzGWE1eDx"
      }
    },
    {
      "cell_type": "code",
      "execution_count": 1,
      "metadata": {
        "id": "Gnj3su7i5-lx",
        "colab": {
          "base_uri": "https://localhost:8080/"
        },
        "outputId": "77777e97-ef7c-4ac8-ea08-defcf72930f7"
      },
      "outputs": [
        {
          "output_type": "stream",
          "name": "stdout",
          "text": [
            "19\n",
            "44.5\n",
            "asdfg13\n"
          ]
        }
      ],
      "source": [
        "# 4.1 Essential Concepts\n",
        "\n",
        "# When we write \"a + b\" in Python, the interpreter tries to execute a.__add__(b)\n",
        "\n",
        "# Show that this is true by trying the following:\n",
        "a = 6\n",
        "b = 31.5\n",
        "c = 'asdfg'\n",
        "a1 = a.__add__(13)\n",
        "b1 = b.__add__(13)\n",
        "c1 = c.__add__('13')\n",
        "print(a1)\n",
        "print(b1)\n",
        "print(c1)\n",
        "\n",
        "# What are the types of a, b, and c?\n",
        "# Explain the results\n",
        "\n",
        "# Output:\n",
        "# 19\n",
        "# 44.5\n",
        "# 'asdfg13'\n",
        "\n",
        "# Types of a, b, and c:\n",
        "# a: int\n",
        "# b: float\n",
        "# c: str\n",
        "\n",
        "# Explanation:\n",
        "# 1. first, Since addition for integers (a) is done using the __add__ method, a1 = a + 13 produces 19.\n",
        "# 2. Secondly, The __add__ method also adds for floating-point numbers (b), thus b1 = b + 13 produces 44.5.\n",
        "# 3. Lastly, The __add__ method concatenates strings (c) with the supplied value; for example, c1 = c + '13' produces 'asdfg13'.\n",
        "\n"
      ]
    },
    {
      "cell_type": "code",
      "source": [
        "# 4.2 through 4.4 will be covered in the next assignment\n"
      ],
      "metadata": {
        "id": "w2uYd3DO2do6"
      },
      "execution_count": null,
      "outputs": []
    },
    {
      "cell_type": "code",
      "source": [
        "# 4.5 str and repr\n",
        "\n",
        "# How many categories of printing are shown below for a datetime object?\n",
        "# Answer: There are two categories of printing shown below for a datetime object.\n",
        "\n",
        "# What in the Python code makes each one get called?\n",
        "\n",
        "from datetime import date\n",
        "d = date(2023, 11, 7)\n",
        "\n",
        "# Print categories:\n",
        "print(d)            # 1. Calls the default printing behavior.\n",
        "print(f'{d}')       # 2. Calls the default printing behavior within an f-string.\n",
        "print(f'{d!s}')     # 3. Calls the __str__ method explicitly using the !s conversion in an f-string.\n",
        "print(f'{d!r}')     # 4. Calls the __repr__ method explicitly using the !r conversion in an f-string.\n",
        "print(str(d))       # 5. Calls the str() function, which internally calls the __str__ method.\n",
        "print(repr(d))      # 6. Calls the repr() function, which internally calls the __repr__ method.\n",
        "print(d.__str__())  # 7. Calls the __str__ method explicitly.\n",
        "print(d.__repr__()) # 8. Calls the __repr__ method explicitly."
      ],
      "metadata": {
        "id": "Aa3ylzmV2wNF",
        "colab": {
          "base_uri": "https://localhost:8080/"
        },
        "outputId": "b286d32d-7532-4f06-cb5b-e43e97a283d9"
      },
      "execution_count": 2,
      "outputs": [
        {
          "output_type": "stream",
          "name": "stdout",
          "text": [
            "2023-11-07\n",
            "2023-11-07\n",
            "2023-11-07\n",
            "datetime.date(2023, 11, 7)\n",
            "2023-11-07\n",
            "datetime.date(2023, 11, 7)\n",
            "2023-11-07\n",
            "datetime.date(2023, 11, 7)\n"
          ]
        }
      ]
    },
    {
      "cell_type": "code",
      "source": [
        "# 4.6 First-Class Objects\n",
        "\n",
        "\n",
        "# What is the significance of all objects being \"first-class\" in Python?\n",
        "# Answer: In Python, all objects being \"first-class\" means that they can be treated uniformly. They can be passed as arguments to functions, assigned to variables, and returned from functions, providing flexibility and enabling a functional programming style.\n",
        "\n",
        "# Explain by typing in the code to create and use the 'items' dictionary shown in section 4.6.\n",
        "items = {\n",
        "    \"func\": abs,       # 'func' key mapped to the abs function\n",
        "    \"mod\": __import__(\"math\"),  # 'mod' key mapped to the math module\n",
        "    \"error\": ValueError,  # 'error' key mapped to the ValueError class\n",
        "    \"append\": list.append  # 'append' key mapped to the append method of lists\n",
        "}\n",
        "\n",
        "# Explain each of the lines starting with '>>>' in the section.\n",
        "items[\"func\"](-45)  # Executes abs(-45) => Output: 45\n",
        "items[\"mod\"].sqrt(4)  # Executes math.sqrt(4) => Output: 2.0\n",
        "\n",
        "try:\n",
        "    x = int(\"a lot\")\n",
        "except items[\"error\"] as e:  # Handles the ValueError and prints \"Couldn't convert\"\n",
        "    print(\"Couldn't convert\")\n",
        "\n",
        "# Corrected: Call the 'append' method on a list, adding 100 to it\n",
        "my_list = [1, 2, 3, 4]\n",
        "items[\"append\"](my_list, 100)\n",
        "print(my_list)  # Output: [1, 2, 3, 4, 100]\n",
        "\n",
        "line = \"ACME, 100, 490, 10\"\n",
        "column_types = [str, int, float]\n",
        "parts = line.split(\",\")\n",
        "row = [ty(val) for ty, val in zip(column_types, parts)]\n",
        "print(row)  # Output: ['ACME', 100, 490.0]\n",
        "\n",
        "# The 'items' dictionary showcases various Python first-class objects, such as modules, classes, methods, and functions.\n",
        "# The lines starting with '>>>' demonstrate how to use the 'items' dictionary for tasks like managing exceptions, calling functions, accessing modules, and manipulating lists.\n"
      ],
      "metadata": {
        "id": "9LRpP06Vsw6n",
        "colab": {
          "base_uri": "https://localhost:8080/"
        },
        "outputId": "49c949d5-4191-45f3-d54c-d35d7c9d8305"
      },
      "execution_count": 6,
      "outputs": [
        {
          "output_type": "stream",
          "name": "stdout",
          "text": [
            "Couldn't convert\n",
            "[1, 2, 3, 4, 100]\n",
            "['ACME', 100, 490.0]\n"
          ]
        }
      ]
    },
    {
      "cell_type": "code",
      "source": [
        "# 4.7 Using None\n",
        "\n",
        "# Write a function that takes two parameters and returns their sum if they are\n",
        "# integers or returns None if either one is not.\n",
        "#INSERT CODE HERE:\n",
        "def add_integers(x, y):\n",
        "    if isinstance(x, int) and isinstance(y, int):\n",
        "        return x + y\n",
        "    else:\n",
        "        return None\n",
        "\n",
        "# Test\n",
        "result1 = add_integers(10, 5)\n",
        "result2 = add_integers(\"hello\", 7)\n",
        "result3 = add_integers(3, \"world\")\n",
        "\n",
        "#results\n",
        "print(f\"Result 1: {result1}\")  # Output: Result 1: 15\n",
        "print(f\"Result 2: {result2}\")  # Output: Result 2: None\n",
        "print(f\"Result 3: {result3}\")  # Output: Result 3: None\n"
      ],
      "metadata": {
        "id": "dUhRWGnCtewU",
        "colab": {
          "base_uri": "https://localhost:8080/"
        },
        "outputId": "00e820b9-792a-4992-e80e-49e79c2a1565"
      },
      "execution_count": 3,
      "outputs": [
        {
          "output_type": "stream",
          "name": "stdout",
          "text": [
            "Result 1: 15\n",
            "Result 2: None\n",
            "Result 3: None\n"
          ]
        }
      ]
    },
    {
      "cell_type": "code",
      "source": [
        "# 4.9 Object Protocol\n",
        "# Create a simple object that has methods for:\n",
        "#  __new__\n",
        "#  __init__\n",
        "#  __del__\n",
        "#  __repr__\n",
        "#  __str__\n",
        "\n",
        "# Put in some test code to show how and when each of these 'magic' functions gets called.\n",
        "\n",
        "# INSERT YOUR CODE HERE\n",
        "\n",
        "class Person:\n",
        "    def __new__(cls, *args, **kwargs):\n",
        "        print(\"Creating a new Person example\")\n",
        "        instance = super().__new__(cls)\n",
        "        return instance\n",
        "\n",
        "    def __init__(self, name):\n",
        "        print(f\"Creating a Person named {name}\")\n",
        "        self.name = name\n",
        "\n",
        "    def __del__(self):\n",
        "        print(f\"Deleting {self.name}'s instance\")\n",
        "\n",
        "    def __repr__(self):\n",
        "        return f\"Person('{self.name}')\"\n",
        "\n",
        "    def __str__(self):\n",
        "        return f\"{self.name}\"\n",
        "\n",
        "# Test code\n",
        "person1 = Person(\"Dylan_Villian\")\n",
        "\n",
        "\n"
      ],
      "metadata": {
        "id": "4M-CQevEt2xQ",
        "colab": {
          "base_uri": "https://localhost:8080/"
        },
        "outputId": "28af0839-22e2-4c81-c742-dd6f430d6e0b"
      },
      "execution_count": 11,
      "outputs": [
        {
          "output_type": "stream",
          "name": "stdout",
          "text": [
            "Creating a new Person example\n",
            "Creating a Person named Dylan_Villian\n"
          ]
        }
      ]
    }
  ]
}
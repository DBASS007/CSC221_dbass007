{
  "nbformat": 4,
  "nbformat_minor": 0,
  "metadata": {
    "colab": {
      "provenance": [],
      "authorship_tag": "ABX9TyM7E/kF1Yf1nBHq6AvjE9Tj",
      "include_colab_link": true
    },
    "kernelspec": {
      "name": "python3",
      "display_name": "Python 3"
    },
    "language_info": {
      "name": "python"
    }
  },
  "cells": [
    {
      "cell_type": "markdown",
      "metadata": {
        "id": "view-in-github",
        "colab_type": "text"
      },
      "source": [
        "<a href=\"https://colab.research.google.com/github/DBASS007/CSC221_dbass007/blob/main/week1a.ipynb\" target=\"_parent\"><img src=\"https://colab.research.google.com/assets/colab-badge.svg\" alt=\"Open In Colab\"/></a>"
      ]
    },
    {
      "cell_type": "markdown",
      "source": [],
      "metadata": {
        "id": "35CJ98zzYtcm"
      }
    },
    {
      "cell_type": "code",
      "execution_count": null,
      "metadata": {
        "id": "kJ9LG61OkDrM"
      },
      "outputs": [],
      "source": [
        "user_input = input(\"Enter a number: \")\n",
        "\n",
        "if user_input == \"4\":\n",
        "    print(\"This is the best number ever, you will have good luck for the rest of your life. Enjoy!\")\n",
        "elif user_input:\n",
        "    print(\"You entered:\", user_input)\n",
        "else:\n",
        "    print(\"hey idiot, you forgot to put in a number!\")"
      ]
    },
    {
      "cell_type": "code",
      "source": [],
      "metadata": {
        "id": "Tyo6cSBHlHr2"
      },
      "execution_count": null,
      "outputs": []
    }
  ]
}
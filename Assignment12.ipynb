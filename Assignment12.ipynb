{
  "nbformat": 4,
  "nbformat_minor": 0,
  "metadata": {
    "colab": {
      "provenance": [],
      "authorship_tag": "ABX9TyMT/UQeEzlRzKqpRDAcCtr1",
      "include_colab_link": true
    },
    "kernelspec": {
      "name": "python3",
      "display_name": "Python 3"
    },
    "language_info": {
      "name": "python"
    }
  },
  "cells": [
    {
      "cell_type": "markdown",
      "metadata": {
        "id": "view-in-github",
        "colab_type": "text"
      },
      "source": [
        "<a href=\"https://colab.research.google.com/github/DBASS007/CSC221_dbass007/blob/main/Assignment12.ipynb\" target=\"_parent\"><img src=\"https://colab.research.google.com/assets/colab-badge.svg\" alt=\"Open In Colab\"/></a>"
      ]
    },
    {
      "cell_type": "code",
      "execution_count": 2,
      "metadata": {
        "id": "_HRT1hEhZPSP",
        "colab": {
          "base_uri": "https://localhost:8080/"
        },
        "outputId": "83085790-ad7b-4b5d-b81a-5effe5fa79ec"
      },
      "outputs": [
        {
          "output_type": "stream",
          "name": "stdout",
          "text": [
            "Total Money in Wallet: $8.00\n",
            "$1.00 Bill (Quantity: 5)\n",
            "$0.25 Coin (Quantity: 10)\n",
            "$0.01 Coin (Quantity: 50)\n"
          ]
        }
      ],
      "source": [
        "class Money:\n",
        "    def __init__(self, value):\n",
        "        self.value = value\n",
        "\n",
        "    def __str__(self):\n",
        "        return f\"${self.value:.2f}\"\n",
        "\n",
        "class Bills(Money):\n",
        "    def __init__(self, value, quantity=0):\n",
        "        super().__init__(value)\n",
        "        self.quantity = quantity\n",
        "\n",
        "    def __str__(self):\n",
        "        return f\"${self.value:.2f} Bill (Quantity: {self.quantity})\"\n",
        "\n",
        "class Coins(Money):\n",
        "    def __init__(self, value, quantity=0):\n",
        "        super().__init__(value)\n",
        "        self.quantity = quantity\n",
        "\n",
        "    def __str__(self):\n",
        "        return f\"${self.value:.2f} Coin (Quantity: {self.quantity})\"\n",
        "\n",
        "class OneDollarBill(Bills):\n",
        "    def __init__(self, quantity=0):\n",
        "        super().__init__(1, quantity)\n",
        "\n",
        "class FiveDollarBill(Bills):\n",
        "    def __init__(self, quantity=0):\n",
        "        super().__init__(5, quantity)\n",
        "\n",
        "class TenDollarBill(Bills):\n",
        "    def __init__(self, quantity=0):\n",
        "        super().__init__(10, quantity)\n",
        "\n",
        "class TwentyDollarBill(Bills):\n",
        "    def __init__(self, quantity=0):\n",
        "        super().__init__(20, quantity)\n",
        "\n",
        "class Penny(Coins):\n",
        "    def __init__(self, quantity=0):\n",
        "        super().__init__(0.01, quantity)\n",
        "\n",
        "class Nickel(Coins):\n",
        "    def __init__(self, quantity=0):\n",
        "        super().__init__(0.05, quantity)\n",
        "\n",
        "class Dime(Coins):\n",
        "    def __init__(self, quantity=0):\n",
        "        super().__init__(0.10, quantity)\n",
        "\n",
        "class Quarter(Coins):\n",
        "    def __init__(self, quantity=0):\n",
        "        super().__init__(0.25, quantity)\n",
        "\n",
        "# Sample Test Cases\n",
        "one_dollar_bill = OneDollarBill(quantity=5)\n",
        "quarter_coin = Quarter(quantity=10)\n",
        "penny_coin = Penny(quantity=50)\n",
        "\n",
        "wallet = [one_dollar_bill, quarter_coin, penny_coin]\n",
        "\n",
        "total = 0\n",
        "for money in wallet:\n",
        "    total += money.value * money.quantity\n",
        "\n",
        "print(f\"Total Money in Wallet: ${total:.2f}\")\n",
        "\n",
        "for money in wallet:\n",
        "    print(money)\n"
      ]
    },
    {
      "cell_type": "code",
      "source": [
        "#my own idea, I play baseball, so I am going to do one relating that\n",
        "class Player:\n",
        "    def __init__(self, name, salary):\n",
        "        self.name = name\n",
        "        self.salary = salary\n",
        "\n",
        "    def __str__(self):\n",
        "        return f\"{self.name} - Salary: ${self.salary:.2f}\"\n",
        "\n",
        "class Pitcher(Player):\n",
        "    def __init__(self, name, salary):\n",
        "        super().__init__(name, salary)\n",
        "\n",
        "class PositionPlayer(Player):\n",
        "    def __init__(self, name, salary, position):\n",
        "        super().__init__(name, salary)\n",
        "        self.position = position\n",
        "\n",
        "class Infielder(PositionPlayer):\n",
        "    def __init__(self, name, salary, position):\n",
        "        super().__init__(name, salary, position)\n",
        "\n",
        "class Outfielder(PositionPlayer):\n",
        "    def __init__(self, name, salary, position):\n",
        "        super().__init__(name, salary, position)\n",
        "\n",
        "class Catcher(PositionPlayer):\n",
        "    def __init__(self, name, salary, position):\n",
        "        super().__init__(name, salary, position)\n",
        "\n",
        "class FirstBaseman(PositionPlayer):\n",
        "    def __init__(self, name, salary, position):\n",
        "        super().__init__(name, salary, position)\n",
        "\n",
        "class SecondBaseman(PositionPlayer):\n",
        "    def __init__(self, name, salary, position):\n",
        "        super().__init__(name, salary, position)\n",
        "\n",
        "class ThirdBaseman(PositionPlayer):\n",
        "    def __init__(self, name, salary, position):\n",
        "        super().__init__(name, salary, position)\n",
        "\n",
        "class Shortstop(PositionPlayer):\n",
        "    def __init__(self, name, salary, position):\n",
        "        super().__init__(name, salary, position)\n",
        "\n",
        "class StartingPitcher(Pitcher):\n",
        "    def __init__(self, name, salary):\n",
        "        super().__init__(name, salary)\n",
        "\n",
        "class ReliefPitcher(Pitcher):\n",
        "    def __init__(self, name, salary):\n",
        "        super().__init__(name, salary)\n",
        "\n",
        "# Sample Test Cases\n",
        "infielder1 = Infielder(\"John Doe\", 500000, \"Shortstop\")\n",
        "outfielder1 = Outfielder(\"Jane Doe\", 600000, \"Left Fielder\")\n",
        "starting_pitcher1 = StartingPitcher(\"Bob Smith\", 1000000)\n",
        "relief_pitcher1 = ReliefPitcher(\"Mike Johnson\", 800000)\n",
        "\n",
        "players = [infielder1, outfielder1, starting_pitcher1, relief_pitcher1]\n",
        "\n",
        "total_salary = sum(player.salary for player in players)\n",
        "\n",
        "print(f\"Total Salary of Players: ${total_salary:.2f}\")\n",
        "\n",
        "for player in players:\n",
        "    print(player)\n"
      ],
      "metadata": {
        "colab": {
          "base_uri": "https://localhost:8080/"
        },
        "id": "806WiRZu1Q-J",
        "outputId": "4036ee16-b94e-4615-e40d-42640b257ecb"
      },
      "execution_count": 3,
      "outputs": [
        {
          "output_type": "stream",
          "name": "stdout",
          "text": [
            "Total Salary of Players: $2900000.00\n",
            "John Doe - Salary: $500000.00\n",
            "Jane Doe - Salary: $600000.00\n",
            "Bob Smith - Salary: $1000000.00\n",
            "Mike Johnson - Salary: $800000.00\n"
          ]
        }
      ]
    }
  ]
}
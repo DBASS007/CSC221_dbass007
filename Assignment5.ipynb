{
  "nbformat": 4,
  "nbformat_minor": 0,
  "metadata": {
    "colab": {
      "provenance": [],
      "authorship_tag": "ABX9TyO6Vr3Xd7rFSdrXbe+5/N39",
      "include_colab_link": true
    },
    "kernelspec": {
      "name": "python3",
      "display_name": "Python 3"
    },
    "language_info": {
      "name": "python"
    }
  },
  "cells": [
    {
      "cell_type": "markdown",
      "metadata": {
        "id": "view-in-github",
        "colab_type": "text"
      },
      "source": [
        "<a href=\"https://colab.research.google.com/github/DBASS007/CSC221_dbass007/blob/main/Assignment5.ipynb\" target=\"_parent\"><img src=\"https://colab.research.google.com/assets/colab-badge.svg\" alt=\"Open In Colab\"/></a>"
      ]
    },
    {
      "cell_type": "code",
      "execution_count": null,
      "metadata": {
        "id": "913V8nmY0otU"
      },
      "outputs": [],
      "source": [
        "#Read through Crash Ch. 4 and work through it as a Colab like we did in class. You will \"hand in\" a big Colab called Assignment5.ipynb that I can just run from your GitHub.\n",
        "#Try the examples as shown in text\n",
        "#Try the Try It Yourself challenges. If some seem redundant, explain that in your Colab and move on!\n",
        "#Write a function called factorial(n) that computes the factorial of a positive integer n using a list.\n",
        "#Remember factorial? It's the product of all numbers from 1 to n. It's usually written \"n!\"\n",
        "#Your function must make a list containing all the numbers from 1 to n  inclusive using a list comprehension.\n",
        "#Then multiply all the numbers in the list together to get the result, like\n",
        "#product = 1\n",
        "#for x in my_list:\n",
        "#product *= x\n",
        "#4. Now, copy this function and rename the new one special_factorial(n). Compute the factorial but leave out the numbers 4, 13, and 22 (if they exist!) from the product. This can be done by removing those numbers from your list prior to multiplying everything together.\n",
        "#You'll need to be careful about removing the values from the list. For example:\n",
        "\n",
        "    #if n >= 4:\n",
        "        #my_list.remove(4)\n",
        "#Can you get these results?\n"
      ]
    },
    {
      "cell_type": "code",
      "source": [
        "#4.1 pizzas\n",
        "print(\"The toppings 3 toppings are chose were:\")\n",
        "toppings = [\"cheese\", \"sausage\", \"meatlovers\"]\n",
        "for topping in toppings:\n",
        "  print(topping)\n",
        "print(\"\\n\")\n",
        "for topping in toppings:\n",
        "  print(f\"I love {topping} pizza!!\")\n",
        "\n",
        "print(\"\\nMan, I just really enjoy eating some pizza!!\")"
      ],
      "metadata": {
        "colab": {
          "base_uri": "https://localhost:8080/"
        },
        "id": "ItUw1vnI1suq",
        "outputId": "0fb9be4e-eea2-4616-8150-c9edfa1cd115"
      },
      "execution_count": null,
      "outputs": [
        {
          "output_type": "stream",
          "name": "stdout",
          "text": [
            "The toppings 3 toppings are chose were:\n",
            "cheese\n",
            "sausage\n",
            "meatlovers\n",
            "\n",
            "\n",
            "I love cheese pizza!!\n",
            "I love sausage pizza!!\n",
            "I love meatlovers pizza!!\n",
            "\n",
            "Man, I just really enjoy eating some pizza!!\n"
          ]
        }
      ]
    },
    {
      "cell_type": "code",
      "source": [
        "#4.2\n",
        "animals = [\"dogs\", \"cats\", \"parrots\"]\n",
        "print(\"The animals I chose were:\")\n",
        "for animal in animals:\n",
        "  print(animal)\n",
        "print(\"\\n\")\n",
        "for animal in animals:\n",
        "  if animal == \"dogs\":\n",
        "    print(\"Dogs would make great pets.\")\n",
        "  elif animal == \"cats\":\n",
        "      print(\"Cats are independent and make good companions.\")\n",
        "  elif animal == \"parrots\":\n",
        "      print(\"A parrot can be a very entertaining pet.\")\n",
        "print(\"\\nAny of these animals would make a great pet!\")"
      ],
      "metadata": {
        "colab": {
          "base_uri": "https://localhost:8080/"
        },
        "id": "zDG49Sr28BVA",
        "outputId": "fe18dff7-f99c-45e3-890a-a0458d4464ab"
      },
      "execution_count": null,
      "outputs": [
        {
          "output_type": "stream",
          "name": "stdout",
          "text": [
            "The animals I chose were:\n",
            "dogs\n",
            "cats\n",
            "parrots\n",
            "\n",
            "\n",
            "Dogs would make great pets.\n",
            "Cats are independent and make good companions.\n",
            "A parrot can be a very entertaining pet.\n",
            "\n",
            "Any of these animals would make a great pet!\n"
          ]
        }
      ]
    },
    {
      "cell_type": "code",
      "source": [
        "#4.3\n",
        "numbers = list(range(1,21))\n",
        "for number in numbers:\n",
        "  print(number)"
      ],
      "metadata": {
        "colab": {
          "base_uri": "https://localhost:8080/"
        },
        "id": "bew-Wri-Gg-W",
        "outputId": "0b6e28c9-2367-46a4-8bd7-0d837c4b3e58"
      },
      "execution_count": null,
      "outputs": [
        {
          "output_type": "stream",
          "name": "stdout",
          "text": [
            "1\n",
            "2\n",
            "3\n",
            "4\n",
            "5\n",
            "6\n",
            "7\n",
            "8\n",
            "9\n",
            "10\n",
            "11\n",
            "12\n",
            "13\n",
            "14\n",
            "15\n",
            "16\n",
            "17\n",
            "18\n",
            "19\n",
            "20\n"
          ]
        }
      ]
    },
    {
      "cell_type": "code",
      "source": [
        "#4.4\n",
        "numbers = list(range(1,1000000))\n",
        "for number in numbers:\n",
        "  print(number)"
      ],
      "metadata": {
        "id": "aiG1Ug8tHJ6Z"
      },
      "execution_count": null,
      "outputs": []
    },
    {
      "cell_type": "code",
      "source": [
        "#4.5\n",
        "numbers = list(range(1, 1000001))\n",
        "print(min(numbers))\n",
        "print(max(numbers))\n",
        "print(sum(numbers))"
      ],
      "metadata": {
        "colab": {
          "base_uri": "https://localhost:8080/"
        },
        "id": "xKB0iPXhHtOd",
        "outputId": "7a941492-46a2-40cf-db75-5bd765171baa"
      },
      "execution_count": null,
      "outputs": [
        {
          "output_type": "stream",
          "name": "stdout",
          "text": [
            "1\n",
            "1000000\n",
            "500000500000\n"
          ]
        }
      ]
    },
    {
      "cell_type": "code",
      "source": [
        "#4.6\n",
        "for numbers in range(1, 21, 2):\n",
        "  print(numbers)\n"
      ],
      "metadata": {
        "colab": {
          "base_uri": "https://localhost:8080/"
        },
        "id": "69EDuUhRImJY",
        "outputId": "9f3a3123-a460-4887-ad0b-aea37f897857"
      },
      "execution_count": null,
      "outputs": [
        {
          "output_type": "stream",
          "name": "stdout",
          "text": [
            "1\n",
            "3\n",
            "5\n",
            "7\n",
            "9\n",
            "11\n",
            "13\n",
            "15\n",
            "17\n",
            "19\n"
          ]
        }
      ]
    },
    {
      "cell_type": "code",
      "source": [
        "#4.7\n",
        "threes = list(range(3, 31, 3))\n",
        "\n",
        "for number in threes:\n",
        "    print(number)"
      ],
      "metadata": {
        "colab": {
          "base_uri": "https://localhost:8080/"
        },
        "id": "KqPS-vsDI6R2",
        "outputId": "c3f85bc9-861b-4e1b-977f-52efb005857d"
      },
      "execution_count": null,
      "outputs": [
        {
          "output_type": "stream",
          "name": "stdout",
          "text": [
            "3\n",
            "6\n",
            "9\n",
            "12\n",
            "15\n",
            "18\n",
            "21\n",
            "24\n",
            "27\n",
            "30\n"
          ]
        }
      ]
    },
    {
      "cell_type": "code",
      "source": [
        "#4-8\n",
        "cubes = []\n",
        "for number in range(1, 11):\n",
        "    cube = number**3\n",
        "    cubes.append(cube)\n",
        "for cube in cubes:\n",
        "    print(cube)"
      ],
      "metadata": {
        "colab": {
          "base_uri": "https://localhost:8080/"
        },
        "id": "T2z7qMMuJpap",
        "outputId": "9a1c6e0c-122d-4863-ba99-adfa0366a5dc"
      },
      "execution_count": null,
      "outputs": [
        {
          "output_type": "stream",
          "name": "stdout",
          "text": [
            "1\n",
            "8\n",
            "27\n",
            "64\n",
            "125\n",
            "216\n",
            "343\n",
            "512\n",
            "729\n",
            "1000\n"
          ]
        }
      ]
    },
    {
      "cell_type": "code",
      "source": [
        "#4.9\n",
        "cubes = [number**3 for number in range(1,11)]\n",
        "for cube in cubes:\n",
        "    print(cube)"
      ],
      "metadata": {
        "colab": {
          "base_uri": "https://localhost:8080/"
        },
        "id": "XvqsxJoaKbeU",
        "outputId": "43fdfd41-deae-47eb-b96b-a34641ca9415"
      },
      "execution_count": null,
      "outputs": [
        {
          "output_type": "stream",
          "name": "stdout",
          "text": [
            "1\n",
            "8\n",
            "27\n",
            "64\n",
            "125\n",
            "216\n",
            "343\n",
            "512\n",
            "729\n",
            "1000\n"
          ]
        }
      ]
    },
    {
      "cell_type": "code",
      "source": [
        "#4-10\n",
        "animals = [\"dogs\", \"cats\", \"parrots\"]\n",
        "print(\"The animals I chose were:\")\n",
        "for animal in animals:\n",
        "  print(animal)\n",
        "print(\"\\n\")\n",
        "for animal in animals:\n",
        "  if animal == \"dogs\":\n",
        "    print(\"Dogs would make great pets.\")\n",
        "  elif animal == \"cats\":\n",
        "      print(\"Cats are independent and make good companions.\")\n",
        "  elif animal == \"parrots\":\n",
        "      print(\"A parrot can be a very entertaining pet.\")\n",
        "print(\"\\nAny of these animals would make a great pet!\")\n",
        "\n",
        "print(\"\\nThe first three items in the list are:\")\n",
        "print(animals[:3])\n",
        "\n",
        "print(\"\\nThree items from the middle of the list are:\")\n",
        "print(animals[1:4])\n",
        "\n",
        "print(\"\\nThe last three items in the list are:\")\n",
        "print(animals[-3:])\n",
        "\n",
        "#the book told me to pick a random code that I did before.\n"
      ],
      "metadata": {
        "colab": {
          "base_uri": "https://localhost:8080/"
        },
        "id": "GrEeNkgJNw9P",
        "outputId": "6cbf902a-501f-4894-e5c8-bb7988b6a002"
      },
      "execution_count": 35,
      "outputs": [
        {
          "output_type": "stream",
          "name": "stdout",
          "text": [
            "The animals I chose were:\n",
            "dogs\n",
            "cats\n",
            "parrots\n",
            "\n",
            "\n",
            "Dogs would make great pets.\n",
            "Cats are independent and make good companions.\n",
            "A parrot can be a very entertaining pet.\n",
            "\n",
            "Any of these animals would make a great pet!\n",
            "\n",
            "The first three items in the list are:\n",
            "['dogs', 'cats', 'parrots']\n",
            "\n",
            "Three items from the middle of the list are:\n",
            "['cats', 'parrots']\n",
            "\n",
            "The last three items in the list are:\n",
            "['dogs', 'cats', 'parrots']\n"
          ]
        }
      ]
    },
    {
      "cell_type": "code",
      "source": [
        "#4.11\n",
        "pizzas = ['sausage', 'cheese', 'mushroom']\n",
        "friend_pizzas = pizzas[:]\n",
        "#adding mushroom instead of meatlovers, will use it later\n",
        "pizzas.append(\"meatlovers\")\n",
        "friend_pizzas.append('pesto')\n",
        "\n",
        "print(\"My favorite pizzas are:\")\n",
        "for pizza in pizzas:\n",
        "    print(f\"- {pizza}\")\n",
        "\n",
        "print(\"\\nMy friend's favorite pizzas are:\")\n",
        "for pizza in friend_pizzas:\n",
        "    print(f\"- {pizza}\")"
      ],
      "metadata": {
        "colab": {
          "base_uri": "https://localhost:8080/"
        },
        "id": "DBadUcTfPsNt",
        "outputId": "ab954279-2006-4b8c-be9c-91ec2bae9fa2"
      },
      "execution_count": 36,
      "outputs": [
        {
          "output_type": "stream",
          "name": "stdout",
          "text": [
            "My favorite pizzas are:\n",
            "- sausage\n",
            "- cheese\n",
            "- mushroom\n",
            "- meatlovers\n",
            "\n",
            "My friend's favorite pizzas are:\n",
            "- sausage\n",
            "- cheese\n",
            "- mushroom\n",
            "- pesto\n"
          ]
        }
      ]
    },
    {
      "cell_type": "code",
      "source": [
        "#4.12\n",
        "fruit_foods = [\"apple\", \"banana\", \"cherry\", \"date\"]\n",
        "meat_foods = [\"beef\", \"chicken\", \"pork\", \"lamb\"]\n",
        "fish_foods = [\"salmon\", \"tuna\", \"cod\", \"trout\"]\n",
        "\n",
        "\n",
        "print(\"Fish Foods:\")\n",
        "for food in fish_foods:\n",
        "    print(food)\n",
        "\n",
        "print(\"\\nMeat Foods:\")\n",
        "for food in meat_foods:\n",
        "    print(food)"
      ],
      "metadata": {
        "colab": {
          "base_uri": "https://localhost:8080/"
        },
        "id": "0Tn9bYdhQClL",
        "outputId": "61805eeb-bb32-40db-9b93-b6da33ecbaa0"
      },
      "execution_count": 37,
      "outputs": [
        {
          "output_type": "stream",
          "name": "stdout",
          "text": [
            "Fish Foods:\n",
            "salmon\n",
            "tuna\n",
            "cod\n",
            "trout\n",
            "\n",
            "Meat Foods:\n",
            "beef\n",
            "chicken\n",
            "pork\n",
            "lamb\n"
          ]
        }
      ]
    },
    {
      "cell_type": "code",
      "source": [
        "#4.13\n",
        "menu_items = ['tofu stir fry', 'vegetable curry', 'quinoa salad','kale and avocado wrap', 'chickpea burger']\n",
        "\n",
        "print(\"You can choose from the following menu items:\")\n",
        "for item in menu_items:\n",
        "    print(f\"- {item}\")\n",
        "\n",
        "menu_items = ['tofu stir fry', 'vegetable curry', 'quinoa salad',\n",
        "    'kale and avocado wrap', 'chickpea burger']\n",
        "\n",
        "print(\"\\nOur menu has been updated.\")\n",
        "print(\"You can now choose from the following items:\")\n",
        "for item in menu_items:\n",
        "    print(f\"- {item}\")\n",
        "\n"
      ],
      "metadata": {
        "colab": {
          "base_uri": "https://localhost:8080/"
        },
        "id": "h0UMpXHpTPgI",
        "outputId": "e1f3df6c-a085-4e85-fa96-dadf490f8b39"
      },
      "execution_count": 38,
      "outputs": [
        {
          "output_type": "stream",
          "name": "stdout",
          "text": [
            "You can choose from the following menu items:\n",
            "- tofu stir fry\n",
            "- vegetable curry\n",
            "- quinoa salad\n",
            "- kale and avocado wrap\n",
            "- chickpea burger\n",
            "\n",
            "Our menu has been updated.\n",
            "You can now choose from the following items:\n",
            "- tofu stir fry\n",
            "- vegetable curry\n",
            "- quinoa salad\n",
            "- kale and avocado wrap\n",
            "- chickpea burger\n"
          ]
        }
      ]
    },
    {
      "cell_type": "code",
      "source": [
        "#DOWNLOAD PEP? ARE YOU SURE?? IF POINTS TAKEN OFF FOR THIS, PLEASE EMAIL ME."
      ],
      "metadata": {
        "id": "FXpLmdpfXugD"
      },
      "execution_count": null,
      "outputs": []
    },
    {
      "cell_type": "code",
      "source": [
        "#Lecky Problem no.1\n",
        "def factorial(n):\n",
        "  numbers = [i for i in range(1, n+1)]\n",
        "  product = 1\n",
        "  for x in numbers:\n",
        "    product *= x\n",
        "  return product\n",
        "result = factorial(5)\n",
        "print(result)\n",
        "result = factorial(10)\n",
        "print(result)\n",
        "result = factorial(20)\n",
        "print(result)\n",
        "result = factorial(50)\n",
        "print(result)"
      ],
      "metadata": {
        "colab": {
          "base_uri": "https://localhost:8080/"
        },
        "id": "gPOsjXf_P3Lj",
        "outputId": "e70192f5-9273-434a-b26b-77e246c729ae"
      },
      "execution_count": 14,
      "outputs": [
        {
          "output_type": "stream",
          "name": "stdout",
          "text": [
            "120\n",
            "3628800\n",
            "2432902008176640000\n",
            "30414093201713378043612608166064768844377641568960512000000000000\n"
          ]
        }
      ]
    },
    {
      "cell_type": "code",
      "source": [
        "#Lecky Problem no.2\n",
        "def special_factorial(n):\n",
        "  numbers = [i for i in range(1, n+1)]\n",
        "  if 4 in numbers:\n",
        "    numbers.remove(4)\n",
        "  if 13 in numbers:\n",
        "    numbers.remove(13)\n",
        "  if 22 in numbers:\n",
        "    numbers.remove(22)\n",
        "  product = 1\n",
        "\n",
        "  for x in numbers:\n",
        "    product *= x\n",
        "\n",
        "  return product\n",
        "result = special_factorial(5)\n",
        "print(result)\n",
        "result = special_factorial(10)\n",
        "print(result)\n",
        "result = special_factorial(20)\n",
        "print(result)\n",
        "result = special_factorial(50)\n",
        "print(result)"
      ],
      "metadata": {
        "colab": {
          "base_uri": "https://localhost:8080/"
        },
        "id": "X5psm_CNUv8n",
        "outputId": "a8d85f7d-9ed9-4edf-c2dc-7ddb690bad6b"
      },
      "execution_count": 17,
      "outputs": [
        {
          "output_type": "stream",
          "name": "stdout",
          "text": [
            "30\n",
            "907200\n",
            "46786577080320000\n",
            "26585745805693512275885146998308364374455980392448000000000000\n"
          ]
        }
      ]
    }
  ]
}
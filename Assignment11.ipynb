{
  "nbformat": 4,
  "nbformat_minor": 0,
  "metadata": {
    "colab": {
      "provenance": [],
      "authorship_tag": "ABX9TyPrIuzBEiVGkj9cSInjFS0W",
      "include_colab_link": true
    },
    "kernelspec": {
      "name": "python3",
      "display_name": "Python 3"
    },
    "language_info": {
      "name": "python"
    }
  },
  "cells": [
    {
      "cell_type": "markdown",
      "metadata": {
        "id": "view-in-github",
        "colab_type": "text"
      },
      "source": [
        "<a href=\"https://colab.research.google.com/github/DBASS007/CSC221_dbass007/blob/main/Assignment11.ipynb\" target=\"_parent\"><img src=\"https://colab.research.google.com/assets/colab-badge.svg\" alt=\"Open In Colab\"/></a>"
      ]
    },
    {
      "cell_type": "code",
      "execution_count": null,
      "metadata": {
        "id": "dhKD_b50Y6or"
      },
      "outputs": [],
      "source": [
        "#Work through all of the example code in the text involving dogs and cars."
      ]
    },
    {
      "cell_type": "code",
      "source": [
        "class Dog:\n",
        "  \"\"\"A simple attempt to model a dog\"\"\"\n",
        "\n",
        "  def __init__(self, name, age):\n",
        "    \"\"\"Initialize name and age attributes.\"\"\"\n",
        "    self.name = name\n",
        "    self.age = age\n",
        "\n",
        "  def sit(self):\n",
        "    print(f\"{self.name} is now sitting.\")\n",
        "\n",
        "\n",
        "  def roll_over(self):\n",
        "    \"\"\"Simulate rolling over in response to command.\"\"\"\n",
        "    print(f\"{self.name} rolled over!\")\n"
      ],
      "metadata": {
        "id": "rOs_W499eH3y"
      },
      "execution_count": 4,
      "outputs": []
    },
    {
      "cell_type": "code",
      "source": [
        "my_dog = Dog('Willie', 6)\n",
        "\n",
        "print(f\"My dogs name is {my_dog.name}.\")\n",
        "print(f\"My dog is {my_dog.age} years old.\")"
      ],
      "metadata": {
        "colab": {
          "base_uri": "https://localhost:8080/"
        },
        "id": "gRVbyMPLmivo",
        "outputId": "8baf0412-7c4a-4640-d8c2-2a3a4bb486a9"
      },
      "execution_count": 6,
      "outputs": [
        {
          "output_type": "stream",
          "name": "stdout",
          "text": [
            "My dogs name is Willie.\n",
            "My dog is 6 years old.\n"
          ]
        }
      ]
    },
    {
      "cell_type": "code",
      "source": [
        "my_dog.sit()\n",
        "my_dog.roll_over()"
      ],
      "metadata": {
        "colab": {
          "base_uri": "https://localhost:8080/"
        },
        "id": "GcHELmieRBiq",
        "outputId": "d630d2f4-2860-41e4-820a-f0b9284abf4d"
      },
      "execution_count": 9,
      "outputs": [
        {
          "output_type": "stream",
          "name": "stdout",
          "text": [
            "Willie is now sitting.\n",
            "Willie rolled over!\n"
          ]
        }
      ]
    },
    {
      "cell_type": "code",
      "source": [
        "your_dog = Dog(\"Lucy\", 3)\n",
        "print(f\"My dogs name is {my_dog.name}.\")\n",
        "print(f\"My dog is {my_dog.age} years old.\")\n",
        "my_dog.sit()\n",
        "\n",
        "print(f\"\\nYour dogs name is {your_dog.name}. \")\n",
        "print(f\"Your dog is {your_dog.age} years old\")\n",
        "your_dog.sit()\n",
        "\n"
      ],
      "metadata": {
        "colab": {
          "base_uri": "https://localhost:8080/"
        },
        "id": "q1Ejxcq0l1mF",
        "outputId": "9f9ba64f-6713-4e08-cd8a-0f3ca26bd30e"
      },
      "execution_count": 8,
      "outputs": [
        {
          "output_type": "stream",
          "name": "stdout",
          "text": [
            "My dogs name is Willie.\n",
            "My dog is 6 years old.\n",
            "Willie is now sitting.\n",
            "\n",
            "Your dogs name is Lucy. \n",
            "Your dog is 3 years old\n",
            "Lucy is now sitting.\n"
          ]
        }
      ]
    },
    {
      "cell_type": "code",
      "source": [
        "#all my dog codes are completed"
      ],
      "metadata": {
        "colab": {
          "base_uri": "https://localhost:8080/",
          "height": 176
        },
        "id": "elS5Z_xKlQte",
        "outputId": "a85ff24e-f145-4a2d-ebe4-d2a343a3c033"
      },
      "execution_count": 1,
      "outputs": [
        {
          "output_type": "error",
          "ename": "NameError",
          "evalue": "ignored",
          "traceback": [
            "\u001b[0;31m---------------------------------------------------------------------------\u001b[0m",
            "\u001b[0;31mNameError\u001b[0m                                 Traceback (most recent call last)",
            "\u001b[0;32m<ipython-input-1-4a34a165e440>\u001b[0m in \u001b[0;36m<cell line: 1>\u001b[0;34m()\u001b[0m\n\u001b[0;32m----> 1\u001b[0;31m \u001b[0mmy_dog\u001b[0m\u001b[0;34m.\u001b[0m\u001b[0mroll_over\u001b[0m\u001b[0;34m(\u001b[0m\u001b[0;34m)\u001b[0m\u001b[0;34m\u001b[0m\u001b[0;34m\u001b[0m\u001b[0m\n\u001b[0m",
            "\u001b[0;31mNameError\u001b[0m: name 'my_dog' is not defined"
          ]
        }
      ]
    },
    {
      "cell_type": "code",
      "source": [
        "#Do TIY 9-1, 9-2, and 9-3, 9-6, and 9-7."
      ],
      "metadata": {
        "id": "PbKrWEyKZBSG"
      },
      "execution_count": null,
      "outputs": []
    },
    {
      "cell_type": "code",
      "source": [
        "#9-1\n",
        "class Restaurant():\n",
        "    \"\"\"A restaurant representing class.\"\"\"\n",
        "\n",
        "    def __init__(self, name, cuisine_type):\n",
        "        \"\"\"Launch the restaurant from scratch.\"\"\"\n",
        "        self.name = name.title()\n",
        "        self.cuisine_type = cuisine_type\n",
        "\n",
        "    def describe_restaurant(self):\n",
        "        \"\"\"Show a brief overview about the restaurant.\"\"\"\n",
        "        msg = f\"{self.name} offers delicious {self.cuisine_type}.\"\n",
        "        print(f\"\\n{msg}\")\n",
        "\n",
        "    def open_restaurant(self):\n",
        "        \"\"\"Put up an indication indicating that the restaurant is open.\"\"\"\n",
        "        msg = f\"{self.name} is currently open!!\"\n",
        "        print(f\"\\n{msg}\")\n",
        "\n",
        "restaurant = Restaurant('Chefs Pie', '5 star rated hamburgers')\n",
        "print(restaurant.name)\n",
        "print(restaurant.cuisine_type)\n",
        "\n",
        "restaurant.describe_restaurant()\n",
        "restaurant.open_restaurant()"
      ],
      "metadata": {
        "colab": {
          "base_uri": "https://localhost:8080/"
        },
        "id": "GgORJ1jRZDQB",
        "outputId": "6e1cdab9-bfac-47c3-c1da-c55bfe14e797"
      },
      "execution_count": 12,
      "outputs": [
        {
          "output_type": "stream",
          "name": "stdout",
          "text": [
            "Chefs Pie\n",
            "5 star rated hamburgers\n",
            "\n",
            "Chefs Pie offers delicious 5 star rated hamburgers.\n",
            "\n",
            "Chefs Pie is currently open!!\n"
          ]
        }
      ]
    },
    {
      "cell_type": "code",
      "source": [
        "#9-2\n",
        "class Restaurant():\n",
        "    \"\"\"A restaurant representing class.\"\"\"\n",
        "\n",
        "    def __init__(self, name, cuisine_type):\n",
        "        \"\"\"Launch the restaurant from scratch.\"\"\"\n",
        "        self.name = name.title()\n",
        "        self.cuisine_type = cuisine_type\n",
        "\n",
        "    def describe_restaurant(self):\n",
        "        \"\"\"Show a brief overview about the restaurant.\"\"\"\n",
        "        msg = f\"{self.name} offers delicious {self.cuisine_type}.\"\n",
        "        print(f\"\\n{msg}\")\n",
        "\n",
        "    def open_restaurant(self):\n",
        "        \"\"\"Put up an indication indicating that the restaurant is open.\"\"\"\n",
        "        msg = f\"{self.name} is currently open!!\"\n",
        "        print(f\"\\n{msg}\")\n",
        "\n",
        "# Create three different instances\n",
        "restaurant1 = Restaurant('Chefs Pie', '5 star rated hamburgers')\n",
        "restaurant2 = Restaurant('blufish', 'Sushi')\n",
        "restaurant3 = Restaurant('Vicinos', 'Pizza')\n",
        "\n",
        "# Describe each restaurant\n",
        "restaurant1.describe_restaurant()\n",
        "restaurant2.describe_restaurant()\n",
        "restaurant3.describe_restaurant()\n",
        "\n"
      ],
      "metadata": {
        "colab": {
          "base_uri": "https://localhost:8080/"
        },
        "id": "_il5HOShZElV",
        "outputId": "6c725d32-199e-4141-c8f2-231b4c9b19a9"
      },
      "execution_count": 15,
      "outputs": [
        {
          "output_type": "stream",
          "name": "stdout",
          "text": [
            "\n",
            "Chefs Pie offers delicious 5 star rated hamburgers.\n",
            "\n",
            "Blufish offers delicious Sushi.\n",
            "\n",
            "Vicinos offers delicious Pizza.\n"
          ]
        }
      ]
    },
    {
      "cell_type": "code",
      "source": [
        "#9-3\n",
        "class User():\n",
        "    \"\"\"Show off a basic user profile.\"\"\"\n",
        "\n",
        "    def __init__(self, first_name, last_name, username, email, location):\n",
        "        \"\"\"Start the user up..\"\"\"\n",
        "        self.first_name = first_name.title()\n",
        "        self.last_name = last_name.title()\n",
        "        self.username = username\n",
        "        self.email = email\n",
        "        self.location = location.title()\n",
        "\n",
        "    def describe_user(self):\n",
        "        \"\"\"Present a brief overview of the user's data.\"\"\"\n",
        "        print(f\"\\n{self.first_name} {self.last_name}\")\n",
        "        print(f\"  Username: {self.username}\")\n",
        "        print(f\"  Email: {self.email}\")\n",
        "        print(f\"  Location: {self.location}\")\n",
        "\n",
        "    def greet_user(self):\n",
        "        \"\"\"Present the user with a customized greeting.\"\"\"\n",
        "        print(f\"\\nWelcome back, {self.username}!\")\n",
        "\n",
        "john = User('john', 'doe', 'j_doe', 'j_doe@example.com', 'new york')\n",
        "jane = User('jane', 'smith', 'j_smith', 'js@example.com', 'los angeles')\n",
        "\n",
        "john.describe_user()\n",
        "john.greet_user()\n",
        "\n",
        "jane.describe_user()\n",
        "jane.greet_user()\n"
      ],
      "metadata": {
        "colab": {
          "base_uri": "https://localhost:8080/"
        },
        "id": "XxEgURqDZF5D",
        "outputId": "6b88df37-c708-49e0-a4a0-17c2d512809b"
      },
      "execution_count": 16,
      "outputs": [
        {
          "output_type": "stream",
          "name": "stdout",
          "text": [
            "\n",
            "John Doe\n",
            "  Username: j_doe\n",
            "  Email: j_doe@example.com\n",
            "  Location: New York\n",
            "\n",
            "Welcome back, j_doe!\n",
            "\n",
            "Jane Smith\n",
            "  Username: j_smith\n",
            "  Email: js@example.com\n",
            "  Location: Los Angeles\n",
            "\n",
            "Welcome back, j_smith!\n"
          ]
        }
      ]
    },
    {
      "cell_type": "code",
      "source": [
        "class Car:\n",
        "    \"\"\"A simple attempt to represent a car.\"\"\"\n",
        "\n",
        "    def __init__(self, make, model, year):\n",
        "        \"\"\"Initialize attributes to describe car.\"\"\"\n",
        "        self.make = make\n",
        "        self.model = model\n",
        "        self.year = year\n",
        "        self.odometer_reading = 0  # Initialize the odometer reading\n",
        "\n",
        "    def get_descriptive_name(self):\n",
        "        \"\"\"Return a neatly formatted descriptive name.\"\"\"\n",
        "        long_name = f\"{self.year} {self.make} {self.model}\"\n",
        "        return long_name.title()\n",
        "\n",
        "    def read_odometer(self):\n",
        "        \"\"\"Print a statement showing the car's mileage.\"\"\"\n",
        "        print(f\"This car has {self.odometer_reading} miles on it\")\n",
        "\n",
        "my_new_car = Car('audi', 'a4', 2024)\n",
        "print(my_new_car.get_descriptive_name())\n",
        "my_new_car.read_odometer()\n"
      ],
      "metadata": {
        "colab": {
          "base_uri": "https://localhost:8080/"
        },
        "id": "_hm99hsiVybk",
        "outputId": "eb357a56-056c-42e7-90ac-865ec4500faa"
      },
      "execution_count": 37,
      "outputs": [
        {
          "output_type": "stream",
          "name": "stdout",
          "text": [
            "2024 Audi A4\n",
            "This car has 0 miles on it\n"
          ]
        }
      ]
    },
    {
      "cell_type": "code",
      "source": [
        "def read_odometer(self):\n",
        "  \"\"\"Print a statement showing the cars mileage.\"\"\"\n",
        "  print(f\"This car has {self.odometer_reading} miles on it\")"
      ],
      "metadata": {
        "id": "ojuC24euYyAw"
      },
      "execution_count": 31,
      "outputs": []
    },
    {
      "cell_type": "code",
      "source": [
        "#9-6\n",
        "class Restaurant():\n",
        "    \"\"\"Class representing a restaurant.\"\"\"\n",
        "\n",
        "    def __init__(self, name, cuisine_type):\n",
        "        \"\"\"Initialize the restaurant.\"\"\"\n",
        "        self.name = name.title()\n",
        "        self.cuisine_type = cuisine_type\n",
        "        self.number_served = 0\n",
        "\n",
        "    def describe_restaurant(self):\n",
        "        \"\"\"Display a summary of the restaurant.\"\"\"\n",
        "        msg = f\"{self.name} serves delightful {self.cuisine_type}.\"\n",
        "        print(f\"\\n{msg}\")\n",
        "\n",
        "    def open_restaurant(self):\n",
        "        \"\"\"Display a message that the restaurant is open.\"\"\"\n",
        "        msg = f\"{self.name} is open. Welcome!\"\n",
        "        print(f\"\\n{msg}\")\n",
        "\n",
        "    def set_number_served(self, number_served):\n",
        "        \"\"\"Allows setting the number of customers served.\"\"\"\n",
        "        self.number_served = number_served\n",
        "\n",
        "    def increment_number_served(self, additional_served):\n",
        "        \"\"\"Allows incrementing the number of customers served.\"\"\"\n",
        "        self.number_served += additional_served\n",
        "\n",
        "\n",
        "class IceCreamStand(Restaurant):\n",
        "    \"\"\"Represent an ice cream stand.\"\"\"\n",
        "\n",
        "    def __init__(self, name, cuisine_type='ice_cream'):\n",
        "        \"\"\"Initialize an ice cream stand.\"\"\"\n",
        "        super().__init__(name, cuisine_type)\n",
        "        self.flavors = []\n",
        "\n",
        "    def show_flavors(self):\n",
        "        \"\"\"Display the flavors available.\"\"\"\n",
        "        print(\"\\nWe have the following delectable flavors:\")\n",
        "        for flavor in self.flavors:\n",
        "            print(f\"- {flavor.title()}\")\n",
        "\n",
        "\n",
        "sweet_treats = IceCreamStand('Tasty Delights')\n",
        "sweet_treats.flavors = ['raspberry truffle', 'honey lavender', 'caramel sea salt']\n",
        "\n",
        "sweet_treats.describe_restaurant()\n",
        "sweet_treats.show_flavors()\n",
        "\n"
      ],
      "metadata": {
        "colab": {
          "base_uri": "https://localhost:8080/"
        },
        "id": "AWOfOlrhZHXa",
        "outputId": "804c07b6-82eb-438d-e22c-08b3a4462190"
      },
      "execution_count": 38,
      "outputs": [
        {
          "output_type": "stream",
          "name": "stdout",
          "text": [
            "\n",
            "Tasty Delights serves delightful ice_cream.\n",
            "\n",
            "We have the following delectable flavors:\n",
            "- Raspberry Truffle\n",
            "- Honey Lavender\n",
            "- Caramel Sea Salt\n"
          ]
        }
      ]
    },
    {
      "cell_type": "code",
      "source": [
        "#9-7\n",
        "class User():\n",
        "    \"\"\"Show off a basic user profile.\"\"\"\n",
        "\n",
        "    def __init__(self, first_name, last_name, username, email, location):\n",
        "        \"\"\"Start the user up..\"\"\"\n",
        "        self.first_name = first_name.title()\n",
        "        self.last_name = last_name.title()\n",
        "        self.username = username\n",
        "        self.email = email\n",
        "        self.location = location.title()\n",
        "\n",
        "    def describe_user(self):\n",
        "        \"\"\"Present a brief overview of the user's data.\"\"\"\n",
        "        print(f\"\\n{self.first_name} {self.last_name}\")\n",
        "        print(f\"  Username: {self.username}\")\n",
        "        print(f\"  Email: {self.email}\")\n",
        "        print(f\"  Location: {self.location}\")\n",
        "\n",
        "    def greet_user(self):\n",
        "        \"\"\"Present the user with a customized greeting.\"\"\"\n",
        "        print(f\"\\nWelcome back, {self.username}!\")\n",
        "\n",
        "class Admin(User):\n",
        "    \"\"\"Represent a special kind of user: an administrator.\"\"\"\n",
        "\n",
        "    def __init__(self, first_name, last_name, username, email, location):\n",
        "        \"\"\"Initialize the admin.\"\"\"\n",
        "        super().__init__(first_name, last_name, username, email, location)\n",
        "        self.privileges = [\n",
        "            \"can add post\",\n",
        "            \"can delete post\",\n",
        "            \"can ban user\"\n",
        "        ]\n",
        "\n",
        "    def show_privileges(self):\n",
        "        \"\"\"Display the administrator's set of privileges.\"\"\"\n",
        "        print(\"\\nAdministrator Privileges:\")\n",
        "        for privilege in self.privileges:\n",
        "            print(f\"- {privilege}\")\n",
        "\n",
        "admin = Admin('admin', 'istrator', 'admin_user', 'admin@example.com', 'admin city')\n",
        "\n",
        "admin.describe_user()\n",
        "admin.show_privileges()\n"
      ],
      "metadata": {
        "colab": {
          "base_uri": "https://localhost:8080/"
        },
        "id": "hGQ1jABAZIjJ",
        "outputId": "0156b7f6-9e35-470d-c096-7b9e4c5bd80d"
      },
      "execution_count": 40,
      "outputs": [
        {
          "output_type": "stream",
          "name": "stdout",
          "text": [
            "\n",
            "Admin Istrator\n",
            "  Username: admin_user\n",
            "  Email: admin@example.com\n",
            "  Location: Admin City\n",
            "\n",
            "Administrator Privileges:\n",
            "- can add post\n",
            "- can delete post\n",
            "- can ban user\n"
          ]
        }
      ]
    }
  ]
}
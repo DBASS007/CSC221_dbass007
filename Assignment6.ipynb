{
  "nbformat": 4,
  "nbformat_minor": 0,
  "metadata": {
    "colab": {
      "provenance": [],
      "authorship_tag": "ABX9TyPhwl8JbHqnnN/Xvgg3Kef6",
      "include_colab_link": true
    },
    "kernelspec": {
      "name": "python3",
      "display_name": "Python 3"
    },
    "language_info": {
      "name": "python"
    }
  },
  "cells": [
    {
      "cell_type": "markdown",
      "metadata": {
        "id": "view-in-github",
        "colab_type": "text"
      },
      "source": [
        "<a href=\"https://colab.research.google.com/github/DBASS007/CSC221_dbass007/blob/main/Assignment6.ipynb\" target=\"_parent\"><img src=\"https://colab.research.google.com/assets/colab-badge.svg\" alt=\"Open In Colab\"/></a>"
      ]
    },
    {
      "cell_type": "code",
      "execution_count": 1,
      "metadata": {
        "colab": {
          "base_uri": "https://localhost:8080/"
        },
        "id": "Kn_ObpgNf-w9",
        "outputId": "6264a66f-6535-4a53-aae1-a66fedec4428"
      },
      "outputs": [
        {
          "output_type": "stream",
          "name": "stdout",
          "text": [
            "Mercedes\n",
            "HONDA\n",
            "Ford\n",
            "Chevrolet\n"
          ]
        }
      ],
      "source": [
        "#My name is Dylan Bass doing chapter 5 HW\n",
        "#5-1\n",
        "cars = ['mercedes', 'honda', 'ford', 'chevrolet']\n",
        "for car in cars:\n",
        "    if car == 'honda':\n",
        "        print(car.upper())\n",
        "    else:\n",
        "        print(car.title())\n"
      ]
    },
    {
      "cell_type": "code",
      "source": [
        "#5.2\n",
        "# Tests for Equality and Inequality with Strings\n",
        "fruit = 'apple'\n",
        "print(fruit == 'apple')\n",
        "print(fruit != 'banana')\n",
        "\n",
        "# Tests Using lower() Method\n",
        "text = 'Hello'\n",
        "print(text.lower() == 'hello')\n",
        "print(text.lower() != 'world')\n",
        "\n",
        "# Numerical Tests\n",
        "number = 5\n",
        "print(number == 5)\n",
        "print(number != 7)\n",
        "print(number > 3)\n",
        "print(number < 8)\n",
        "print(number >= 5)\n",
        "print(number <= 7)\n",
        "\n",
        "# Tests Using and and or\n",
        "x = 5\n",
        "print(x > 3 and x < 8)\n",
        "\n",
        "y = 2\n",
        "print(y < 1 or y < 5)\n",
        "\n",
        "# Test Whether an Item is Not in a List\n",
        "fruits = ['apple', 'banana', 'cherry']\n",
        "print('orange' not in fruits)\n"
      ],
      "metadata": {
        "colab": {
          "base_uri": "https://localhost:8080/"
        },
        "id": "VVGk4vUegEdY",
        "outputId": "2c43e3b0-16b1-4fc4-a7af-b588994d771c"
      },
      "execution_count": 4,
      "outputs": [
        {
          "output_type": "stream",
          "name": "stdout",
          "text": [
            "True\n",
            "True\n",
            "True\n",
            "True\n",
            "True\n",
            "True\n",
            "True\n",
            "True\n",
            "True\n",
            "True\n",
            "True\n",
            "True\n",
            "True\n"
          ]
        }
      ]
    },
    {
      "cell_type": "code",
      "source": [
        "#5-3 passing version\n",
        "alien_color = 'green'\n",
        "\n",
        "if alien_color == 'green':\n",
        "    print(\"You just earned 5 points!\")"
      ],
      "metadata": {
        "colab": {
          "base_uri": "https://localhost:8080/"
        },
        "id": "Vmvcv4Snl3Vh",
        "outputId": "72e2be50-6be8-4c55-8183-b767dc54a086"
      },
      "execution_count": 5,
      "outputs": [
        {
          "output_type": "stream",
          "name": "stdout",
          "text": [
            "You just earned 5 points!\n"
          ]
        }
      ]
    },
    {
      "cell_type": "code",
      "source": [
        "#5-3 failing version\n",
        "alien_color = 'blue'\n",
        "\n",
        "if alien_color == 'green':\n",
        "    print(\"You just earned 5 points!\")\n",
        "\n",
        "#because this is the failing version, there will be no output..."
      ],
      "metadata": {
        "id": "EKqxH6BGmLPs"
      },
      "execution_count": 7,
      "outputs": []
    },
    {
      "cell_type": "code",
      "source": [
        "#5-4\n",
        "alien_color = 'green'\n",
        "\n",
        "if alien_color == 'green':\n",
        "    print(\"You just earned 5 points!\")\n",
        "else:\n",
        "    print(\"You just earned 10 points!\")"
      ],
      "metadata": {
        "colab": {
          "base_uri": "https://localhost:8080/"
        },
        "id": "HpK4nGqWmV3y",
        "outputId": "29aab4da-8ae0-45f4-f06f-a1dda31d544a"
      },
      "execution_count": 8,
      "outputs": [
        {
          "output_type": "stream",
          "name": "stdout",
          "text": [
            "You just earned 5 points!\n"
          ]
        }
      ]
    },
    {
      "cell_type": "code",
      "source": [
        "#5-4 continued\n",
        "alien_color = 'orange'\n",
        "\n",
        "if alien_color == 'green':\n",
        "    print(\"You just earned 5 points!\")\n",
        "else:\n",
        "    print(\"You just earned 10 points!\")\n",
        "#output will give me 10 points beause the color was not green"
      ],
      "metadata": {
        "colab": {
          "base_uri": "https://localhost:8080/"
        },
        "id": "5e7d9IvVmtRJ",
        "outputId": "9d70f40f-ad6c-47c9-b572-250ccd5c15ba"
      },
      "execution_count": 9,
      "outputs": [
        {
          "output_type": "stream",
          "name": "stdout",
          "text": [
            "You just earned 10 points!\n"
          ]
        }
      ]
    },
    {
      "cell_type": "code",
      "source": [
        "#5-5 version 1\n",
        "alien_color = 'red'\n",
        "\n",
        "if alien_color == 'green':\n",
        "    print(\"You just earned 5 points!\")\n",
        "elif alien_color == 'yellow':\n",
        "    print(\"You just earned 10 points!\")\n",
        "else:\n",
        "    print(\"You just earned 15 points!\")"
      ],
      "metadata": {
        "colab": {
          "base_uri": "https://localhost:8080/"
        },
        "id": "u-U7eG9Am9My",
        "outputId": "891d0627-c1b7-49f4-a7e5-c76c71bdaaa2"
      },
      "execution_count": 10,
      "outputs": [
        {
          "output_type": "stream",
          "name": "stdout",
          "text": [
            "You just earned 15 points!\n"
          ]
        }
      ]
    },
    {
      "cell_type": "code",
      "source": [
        "#5-5 version 2\n",
        "alien_color = 'red'\n",
        "\n",
        "points_dict = {\n",
        "    'green': 5,\n",
        "    'yellow': 10,\n",
        "    'red': 15\n",
        "}\n",
        "\n",
        "points_earned = points_dict.get(alien_color, 0)\n",
        "print(f\"You just earned {points_earned} points!\")\n"
      ],
      "metadata": {
        "colab": {
          "base_uri": "https://localhost:8080/"
        },
        "id": "DBl8UWS7oNeD",
        "outputId": "cd36a9b0-6a85-43cb-c8b9-6776a2226fc3"
      },
      "execution_count": 11,
      "outputs": [
        {
          "output_type": "stream",
          "name": "stdout",
          "text": [
            "You just earned 15 points!\n"
          ]
        }
      ]
    },
    {
      "cell_type": "code",
      "source": [
        "#5-5 version 3\n",
        "def calculate_points(alien_color):\n",
        "    if alien_color == 'green':\n",
        "        return 5\n",
        "    elif alien_color == 'yellow':\n",
        "        return 10\n",
        "    else:\n",
        "        return 15\n",
        "\n",
        "alien_color = 'red'\n",
        "points_earned = calculate_points(alien_color)\n",
        "print(f\"You just earned {points_earned} points!\")\n"
      ],
      "metadata": {
        "colab": {
          "base_uri": "https://localhost:8080/"
        },
        "id": "T2HJZSB5oQDv",
        "outputId": "a6561f1a-e20e-46ab-d64e-c576325c11a0"
      },
      "execution_count": 13,
      "outputs": [
        {
          "output_type": "stream",
          "name": "stdout",
          "text": [
            "You just earned 15 points!\n"
          ]
        }
      ]
    },
    {
      "cell_type": "code",
      "source": [
        "#5-6\n",
        "age = 19\n",
        "\n",
        "if age < 2:\n",
        "    print(\"You're a baby!\")\n",
        "elif age < 4:\n",
        "    print(\"You're a toddler!\")\n",
        "elif age < 13:\n",
        "    print(\"You're a kid!\")\n",
        "elif age < 20:\n",
        "    print(\"You're a teenager!\")\n",
        "elif age < 65:\n",
        "    print(\"You're an adult!\")\n",
        "else:\n",
        "    print(\"You're an elder!\")\n"
      ],
      "metadata": {
        "colab": {
          "base_uri": "https://localhost:8080/"
        },
        "id": "vS0J5NoAotez",
        "outputId": "48d9a855-319a-4437-a0eb-81d098965401"
      },
      "execution_count": 14,
      "outputs": [
        {
          "output_type": "stream",
          "name": "stdout",
          "text": [
            "You're a teenager!\n"
          ]
        }
      ]
    },
    {
      "cell_type": "code",
      "source": [
        "#5-7\n",
        "favorite_fruits = ['kiwis', 'apples', 'pears']\n",
        "\n",
        "if 'bananas' in favorite_fruits:\n",
        "    print(\"You really like bananas!\")\n",
        "if 'apples' in favorite_fruits:\n",
        "    print(\"You really like apples!\")\n",
        "if 'blueberries' in favorite_fruits:\n",
        "    print(\"You really like blueberries!\")\n",
        "if 'kiwis' in favorite_fruits:\n",
        "    print(\"You really like kiwis!\")\n",
        "if 'peaches' in favorite_fruits:\n",
        "    print(\"You really like peaches!\")\n"
      ],
      "metadata": {
        "colab": {
          "base_uri": "https://localhost:8080/"
        },
        "id": "YCZbMnQypdk3",
        "outputId": "8052a1ad-8175-4a03-bb1e-f38e2090778a"
      },
      "execution_count": 15,
      "outputs": [
        {
          "output_type": "stream",
          "name": "stdout",
          "text": [
            "You really like apples!\n",
            "You really like kiwis!\n"
          ]
        }
      ]
    },
    {
      "cell_type": "code",
      "source": [
        "#5-8\n",
        "usernames = ['dylan', 'drew', 'admin', 'peter', 'sean']\n",
        "\n",
        "for username in usernames:\n",
        "    if username == 'admin':\n",
        "        print(\"Hello admin, would you like to see a status report?\")\n",
        "    else:\n",
        "        print(f\"Hello {username}, thank you for logging in again!\")\n"
      ],
      "metadata": {
        "colab": {
          "base_uri": "https://localhost:8080/"
        },
        "id": "CaUsRuVRpuqN",
        "outputId": "7a4cf258-8c14-41bb-dbbd-5f554314c828"
      },
      "execution_count": 16,
      "outputs": [
        {
          "output_type": "stream",
          "name": "stdout",
          "text": [
            "Hello dylan, thank you for logging in again!\n",
            "Hello drew, thank you for logging in again!\n",
            "Hello admin, would you like to see a status report?\n",
            "Hello peter, thank you for logging in again!\n",
            "Hello sean, thank you for logging in again!\n"
          ]
        }
      ]
    },
    {
      "cell_type": "code",
      "source": [
        "#5-9\n",
        "usernames = []\n",
        "\n",
        "if usernames:\n",
        "    for username in usernames:\n",
        "        if username == 'admin':\n",
        "            print(\"Hello admin, would you like to see a status report?\")\n",
        "        else:\n",
        "            print(f\"Hello {username}, thank you for loggin in again!\")\n",
        "else:\n",
        "    print(\"We must locate specific users!\")\n"
      ],
      "metadata": {
        "colab": {
          "base_uri": "https://localhost:8080/"
        },
        "id": "aetHSdRXqJgu",
        "outputId": "172b7f2d-32e9-46a1-f238-39ccce00996d"
      },
      "execution_count": 21,
      "outputs": [
        {
          "output_type": "stream",
          "name": "stdout",
          "text": [
            "We must locate specific users!\n"
          ]
        }
      ]
    },
    {
      "cell_type": "code",
      "source": [
        "#5-10\n",
        "current_users = ['dylan', 'will', 'admin', 'dan', 'Evan']\n",
        "new_users = ['steph', 'Will', 'ADMIN', 'Dan', 'Ivan']\n",
        "\n",
        "current_users_lower = [user.lower() for user in current_users]\n",
        "\n",
        "for new_user in new_users:\n",
        "    if new_user.lower() in current_users_lower:\n",
        "        print(f\"Sorry {new_user}, that name is taken.\")\n",
        "    else:\n",
        "        print(f\"Great, {new_user} is still available.\")"
      ],
      "metadata": {
        "colab": {
          "base_uri": "https://localhost:8080/"
        },
        "id": "1dNH3Mmcqs8U",
        "outputId": "474288e9-ac53-48ae-a757-57edf68143cb"
      },
      "execution_count": 14,
      "outputs": [
        {
          "output_type": "stream",
          "name": "stdout",
          "text": [
            "Great, steph is still available.\n",
            "Sorry Will, that name is taken.\n",
            "Sorry ADMIN, that name is taken.\n",
            "Sorry Dan, that name is taken.\n",
            "Great, Ivan is still available.\n"
          ]
        }
      ]
    },
    {
      "cell_type": "code",
      "source": [
        "#5-11\n",
        "numbers = list(range(1,10))\n",
        "#1-9 not including 10\n",
        "for number in numbers:\n",
        "    if number == 1:\n",
        "        print(\"1st\")\n",
        "    elif number == 2:\n",
        "        print(\"2nd\")\n",
        "    elif number == 3:\n",
        "        print(\"3rd\")\n",
        "    else:\n",
        "        print(f\"{number}th\")"
      ],
      "metadata": {
        "colab": {
          "base_uri": "https://localhost:8080/"
        },
        "id": "OygPaL72DNkD",
        "outputId": "eb908582-28c7-434e-b5bf-f0482bd85d93"
      },
      "execution_count": 15,
      "outputs": [
        {
          "output_type": "stream",
          "name": "stdout",
          "text": [
            "1st\n",
            "2nd\n",
            "3rd\n",
            "4th\n",
            "5th\n",
            "6th\n",
            "7th\n",
            "8th\n",
            "9th\n"
          ]
        }
      ]
    },
    {
      "cell_type": "code",
      "source": [
        "#5-12 - everything looks good"
      ],
      "metadata": {
        "id": "5GMlFYB7QuNz"
      },
      "execution_count": null,
      "outputs": []
    },
    {
      "cell_type": "code",
      "source": [
        "#5-13 program no.1\n",
        "import random\n",
        "\n",
        "def guess_the_number():\n",
        "    secret_number = random.randint(1, 10)\n",
        "\n",
        "    while True:\n",
        "        user_guess = int(input(\"Guess the number (between 1 and 10): \"))\n",
        "\n",
        "        if user_guess == secret_number:\n",
        "            print(\"Congratulations! You guessed the number!\")\n",
        "            break\n",
        "        elif user_guess < secret_number:\n",
        "            print(\"Too low! Try again.\")\n",
        "        else:\n",
        "            print(\"Too high! Try again.\")\n",
        "\n",
        "guess_the_number()\n"
      ],
      "metadata": {
        "colab": {
          "base_uri": "https://localhost:8080/"
        },
        "id": "ZmGC9h3BQxaz",
        "outputId": "0952e8f0-0ac6-4b8a-d023-701226b61aee"
      },
      "execution_count": 16,
      "outputs": [
        {
          "output_type": "stream",
          "name": "stdout",
          "text": [
            "Guess the number (between 1 and 10): 3\n",
            "Too low! Try again.\n",
            "Guess the number (between 1 and 10): 6\n",
            "Too high! Try again.\n",
            "Guess the number (between 1 and 10): 5\n",
            "Too high! Try again.\n",
            "Guess the number (between 1 and 10): 4\n",
            "Congratulations! You guessed the number!\n"
          ]
        }
      ]
    },
    {
      "cell_type": "code",
      "source": [
        "#5-13 program no.2\n",
        "def grade_calculator(score):\n",
        "    if score >= 90:\n",
        "        grade = 'A'\n",
        "    elif score >= 80:\n",
        "        grade = 'B'\n",
        "    elif score >= 70:\n",
        "        grade = 'C'\n",
        "    elif score >= 60:\n",
        "        grade = 'D'\n",
        "    else:\n",
        "        grade = 'F'\n",
        "\n",
        "    return grade\n",
        "\n",
        "user_score = int(input(\"Enter your score: \"))\n",
        "result = grade_calculator(user_score)\n",
        "print(f\"Your grade is: {result}\")"
      ],
      "metadata": {
        "colab": {
          "base_uri": "https://localhost:8080/"
        },
        "id": "X61qt4hyR4KL",
        "outputId": "24f0e29d-4103-472c-f224-fc3d0389949f"
      },
      "execution_count": 17,
      "outputs": [
        {
          "output_type": "stream",
          "name": "stdout",
          "text": [
            "Enter your score: 56\n",
            "Your grade is: F\n"
          ]
        }
      ]
    }
  ]
}
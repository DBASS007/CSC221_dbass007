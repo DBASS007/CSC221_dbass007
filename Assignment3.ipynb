{
  "nbformat": 4,
  "nbformat_minor": 0,
  "metadata": {
    "colab": {
      "provenance": [],
      "authorship_tag": "ABX9TyP9DHeTJz0n0jW+jG/iocZ6",
      "include_colab_link": true
    },
    "kernelspec": {
      "name": "python3",
      "display_name": "Python 3"
    },
    "language_info": {
      "name": "python"
    }
  },
  "cells": [
    {
      "cell_type": "markdown",
      "metadata": {
        "id": "view-in-github",
        "colab_type": "text"
      },
      "source": [
        "<a href=\"https://colab.research.google.com/github/DBASS007/CSC221_dbass007/blob/main/Assignment3.ipynb\" target=\"_parent\"><img src=\"https://colab.research.google.com/assets/colab-badge.svg\" alt=\"Open In Colab\"/></a>"
      ]
    },
    {
      "cell_type": "code",
      "execution_count": 1,
      "metadata": {
        "colab": {
          "base_uri": "https://localhost:8080/"
        },
        "id": "Z8Cqpm7Dzc9H",
        "outputId": "0f6c89e2-d1c3-421f-8c9b-4a4459a467df"
      },
      "outputs": [
        {
          "output_type": "stream",
          "name": "stdout",
          "text": [
            "dylan\n"
          ]
        }
      ],
      "source": [
        "#assign a message to a variable, and then print that message\n",
        "name = \"dylan\"\n",
        "print(name)\n",
        "#name is assigned to the string \"dylan\" then told python to print name."
      ]
    },
    {
      "cell_type": "code",
      "source": [
        "#Assign a message to a variable, and print that message. Then change the value of the variable to a new message, and print the new message\n",
        "verb = \"moving\"\n",
        "print(verb)\n",
        "verb = \"walking\"\n",
        "print(verb)\n",
        "#walking is now the new printed message because it was the most recent."
      ],
      "metadata": {
        "colab": {
          "base_uri": "https://localhost:8080/"
        },
        "id": "D_kqXqLP0iOa",
        "outputId": "c4facf82-70bd-49a6-c0e4-b822b69a467e"
      },
      "execution_count": 2,
      "outputs": [
        {
          "output_type": "stream",
          "name": "stdout",
          "text": [
            "moving\n",
            "walking\n"
          ]
        }
      ]
    },
    {
      "cell_type": "code",
      "source": [
        "#Write adition, subtraction, multiplication, and division operations that result in the number 8...\n",
        "print(4+4)\n",
        "print(10-2)\n",
        "print(4*2)\n",
        "print(16//2)\n",
        "#all printed statements should equal to the number 8"
      ],
      "metadata": {
        "colab": {
          "base_uri": "https://localhost:8080/"
        },
        "id": "dTJIMU9t1UX_",
        "outputId": "ab96dcd1-8762-426f-edae-66512de4b5e0"
      },
      "execution_count": 4,
      "outputs": [
        {
          "output_type": "stream",
          "name": "stdout",
          "text": [
            "8\n",
            "8\n",
            "8\n",
            "8\n"
          ]
        }
      ]
    },
    {
      "cell_type": "code",
      "source": [
        "#Use a variable to represent your favorite number. Then, using that variable, create a message that reveals your favorite number. Print that message\n",
        "fav_num = 4\n",
        "hint = f\"my favorite number is {fav_num}\"\n",
        "print(hint)\n",
        "#using f string to add my fav_num to the string/message"
      ],
      "metadata": {
        "colab": {
          "base_uri": "https://localhost:8080/"
        },
        "id": "oRdZb1xz14HM",
        "outputId": "24410e86-652b-45f8-d6ad-04667ba9c329"
      },
      "execution_count": 7,
      "outputs": [
        {
          "output_type": "stream",
          "name": "stdout",
          "text": [
            "my favorite number is 4\n"
          ]
        }
      ]
    },
    {
      "cell_type": "code",
      "source": [
        "#choose two of the programs you've written, and add at least one comment to each. Then write one sentence describing what the program does\n",
        "#this has been completed"
      ],
      "metadata": {
        "id": "JZfNxipK3Xvx"
      },
      "execution_count": null,
      "outputs": []
    },
    {
      "cell_type": "code",
      "source": [
        "#Enter import this into a python terminal session and skim through the additional principles."
      ],
      "metadata": {
        "id": "PDvIRx-D4XOx"
      },
      "execution_count": null,
      "outputs": []
    },
    {
      "cell_type": "code",
      "source": [
        "import this"
      ],
      "metadata": {
        "colab": {
          "base_uri": "https://localhost:8080/"
        },
        "id": "oO3P3aAF8nMT",
        "outputId": "8b13b3ba-7048-400e-ed69-13f6572ee890"
      },
      "execution_count": 8,
      "outputs": [
        {
          "output_type": "stream",
          "name": "stdout",
          "text": [
            "The Zen of Python, by Tim Peters\n",
            "\n",
            "Beautiful is better than ugly.\n",
            "Explicit is better than implicit.\n",
            "Simple is better than complex.\n",
            "Complex is better than complicated.\n",
            "Flat is better than nested.\n",
            "Sparse is better than dense.\n",
            "Readability counts.\n",
            "Special cases aren't special enough to break the rules.\n",
            "Although practicality beats purity.\n",
            "Errors should never pass silently.\n",
            "Unless explicitly silenced.\n",
            "In the face of ambiguity, refuse the temptation to guess.\n",
            "There should be one-- and preferably only one --obvious way to do it.\n",
            "Although that way may not be obvious at first unless you're Dutch.\n",
            "Now is better than never.\n",
            "Although never is often better than *right* now.\n",
            "If the implementation is hard to explain, it's a bad idea.\n",
            "If the implementation is easy to explain, it may be a good idea.\n",
            "Namespaces are one honking great idea -- let's do more of those!\n"
          ]
        }
      ]
    }
  ]
}